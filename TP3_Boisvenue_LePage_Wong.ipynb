{
 "cells": [
  {
   "cell_type": "markdown",
   "metadata": {
    "colab_type": "text",
    "id": "OBZdsKaBOs9m"
   },
   "source": [
    "# TP3 - Market Basket Analysis \n",
    "INF8111 - Fouille de données, Fall 2019\n",
    "### Team Components\n",
    "    - Boisvenue, Étienne (1798942)\n",
    "    - Le Page, Pierre-Étienne (1689985)\n",
    "    - Wong, Jade (1738089)\n",
    "\n",
    "**Authors**: Rodrigo Randel"
   ]
  },
  {
   "cell_type": "markdown",
   "metadata": {
    "colab_type": "text",
    "id": "pbkDi9riOs9x"
   },
   "source": [
    "## Date et directives de remise\n",
    "Vous remettrez ce fichier nommé TP2\\_NomDuMembre1\\_NomDuMembre2\\_NomDuMembre3.ipynb dans la boîte de remise sur moodle. \n",
    "\n",
    "Tout devra être remis avant le **3 decembre à 23h55**.\n",
    "\n",
    "## Market Basket Analysis\n",
    "\n",
    "Market Basket Analysis (MBA) is a data mining analytics technique to uncover associations between products or product grouping. By exploring interesting patterns from an extensive collection of data, MBA aims to understand/reveal customer purchase behaviors based upon the theory that if you purchased a certain set of products, then you are more (or less) likely to buy another group of products. In other words, MBA allows retailers to identify the relationship between the items that customers buy, revealing patterns of items often purchased together.\n",
    "\n",
    "A widely approach to explore these patterns is by constructing ***association rules*** such as:\n",
    "- **if** bought *ITEM_1* **then** will buy *ITEM_2* with **confidence** *X*.\n",
    "\n",
    "These associations do not have to be 1-to-1 rules. They can involve many items. For example, a person in a supermarket may add eggs to his/her cart, then an MBA application may suggest that the person will also buy some bread and/or flour: \n",
    "    \n",
    "+ **if** bought *EGGS* **then** will buy [*BREAD* with confidence *0.2*; *FLOUR* with confidence 0.05].\n",
    "\n",
    "However, if the person now decides to add flour to his/her cart, the new association rule could be as showing below, suggesting ingredients to make a cake.\n",
    "\n",
    "+ **if** bought [*EGGS, FLOUR*] **then** will buy [*SUGGAR* with confidence 0.45; BAKING POWDER with confidence 0.12; *BREAD* with confidence *0.03*].\n",
    "\n",
    "\n",
    "There are many real scenarios where MBA plays a central role in data analysis, such as supermarket transactions, online orders or credit card history. Marketers may use these association rules to allocate correlated products close to each other on store shelves or make online suggestions so that customers buy more items. Some questions that an MBA can usually help retailers to answer are:\n",
    "\n",
    "    - What items are often purchased together?\n",
    "    - Given a basket, what items should be suggested?\n",
    "    - How should items be placed together on the shelves?\n",
    "\n",
    "\n",
    "### Objective\n",
    "\n",
    "Your goal in this TP is to develop an MBA algorithm for revealing patterns by creating association rules in a big dataset with more than three millions supermarket transactions. However, mining association rules for large datasets is a very computationally intensive problem, which makes it almost impractical to perform it without a distributed system. Hence, to run your algorithm, you will have access to a distributed cloud computing cluster with hundreds of cores. \n",
    "\n",
    "To this end, a **MapReduce** algorithm will be implemented upon the [Apache Spark](http://spark.apache.org) framework, a fast cluster computing system. In a nutshell, Spark is an open source framework designed with a *scale-out* methodology which makes it a very powerful tool for programmers or application developers to perform a massive volume of computations and data processing in distributed environments. Sparks provides high-level APIs that make it easy to build parallel apps without needing to worry about how your code and data are parallelized/distributed thought the computing cluster. Spark does it all for you.\n",
    " \n",
    "The implementation will follow the Market Basket Analysis algorithm presented by Jongwook Woo and Yuhang Xu (2012). The image **workflow.svg** Illustrates the algorithm's workflow, and is to be used for consultation throughout this TP. The blue boxes are the ones where you must implement a method to perform a map or reduce function, and the grey boxes represent their expected output. **All these operations are explained in details in the following sections.** \n",
    "\n",
    "<!---\n",
    "# ![scale=0.5](workflow.svg \"Algorithm Workflow\")\n",
    "-->\n",
    "\n",
    "## 1. Setting up Spark\n",
    "\n",
    "Spark runs on both Windows and UNIX-like systems (e.g., Linux, Mac OS). It's easy to run locally on one machine — all you need is to have Java installed on your system PATH, or the JAVA_HOME environment variable pointing to a Java installation. It is recommended that you have the **JDK v8** installed in your system. If you haven't, go to [Java's web page](https://www.oracle.com/technetwork/java/javase/downloads/jdk8-downloads-2133151.html) to download and install a Java Virtual Machine. Remember to set the environment variable JAVA_HOME if your installation does not do it automatically for you. \n",
    "\n",
    "The interface between Python and Spark is done through **PySpark**, which can be obtained following the sequence below:\n",
    "\n",
    "1. First, go to http://spark.apache.org/downloads \n",
    "2. Select the newest Spark release and the Pre-built for Apache Hadoop 2.7 package \n",
    "3. Click for download **spark-2.4.4-bin-hadoop2.7.tgz** and unzip it in any folder of your preference. \n",
    "4. Next, export the following variables to link PYSPARK (Spark's python interface) to your python distribution in yout `~/.bash_profile` file.\n",
    "```\n",
    "    - export SPARK_HOME=/path/to/spark-2.4.4-bin-hadoop2.7\n",
    "    - export PYTHONPATH=\"$SPARK_HOME/python:$SPARK_HOME/python/lib/py4j-0.10.7-src.zip:$SPARK_HOME/python/lib/pyspark.zip:$PYTHONPATH\"\n",
    "    - export PYSPARK_PYTHON=/path/to/your/python3\n",
    "```\n",
    "5. Run `source ~./bash_profile` to effictate the changes and reinitializate this jupyter notebook session."
   ]
  },
  {
   "cell_type": "markdown",
   "metadata": {
    "colab_type": "text",
    "id": "bVd6S2stOs94"
   },
   "source": [
    "### 1.1 Product Counting Example \n",
    "\n",
    "To test your installation and start to get familiarized with Spark, we will follow an example that counts how many times the products of a toy dataset were purchased.\n",
    "\n",
    "The main entry point to start programming with Spark is the [RDD API](https://spark.apache.org/docs/latest/api/python/pyspark.html#pyspark.RDD), an excellent Spark abstraction to work with the MapReduce framework.  RDD is a collection of elements partitioned across the nodes of the cluster that can operate in parallel. In other words, RDD is how Spark keeps your data ready to perform some function (e.g., a map or reduce function) in parallel. **Do not worry if this still sounds confusing, it will be clear once you start implementing**. However, it is part of this TP to study/consult the [Spark python API](https://spark.apache.org/docs/latest/api/python/) and learn how to use it. Some useful functions that the RDD API offers are:\n",
    "\n",
    "1. **map**: return a new RDD by applying a function to each element of this RDD.\n",
    "2. **flatMap**: return a new RDD by first applying a function to all elements of this RDD, and then flattening the results. **Should be used when each entry will yield more than one mapped element**\n",
    "3. **reduce**: reduces the elements of this RDD using the specified commutative and associative binary operator.\n",
    "4. **reduceByKey**: merge the values for each key using an associative and commutative reduce function\n",
    "5. **groupByKey**: group the values for each key in the RDD into a single sequence\n",
    "6. **collect**: return a list that contains all of the elements in this RDD. **Should not be used when working with a lot of data**\n",
    "7. **sample**: return a sampled subset of this RDD\n",
    "8. **count**: return the number of elements in this RDD.\n",
    "9. **filter**: return a new RDD containing only the elements that satisfy a predicate."
   ]
  },
  {
   "cell_type": "code",
   "execution_count": 0,
   "metadata": {
    "colab": {},
    "colab_type": "code",
    "id": "idqQ5IMREeFW"
   },
   "outputs": [],
   "source": [
    "root_path = None\n",
    "instacart_dir_path = None"
   ]
  },
  {
   "cell_type": "code",
   "execution_count": 2,
   "metadata": {
    "colab": {
     "base_uri": "https://localhost:8080/",
     "height": 386
    },
    "colab_type": "code",
    "executionInfo": {
     "elapsed": 51471,
     "status": "ok",
     "timestamp": 1575340433560,
     "user": {
      "displayName": "Pierre-Étienne Le Page",
      "photoUrl": "",
      "userId": "07150735392471165903"
     },
     "user_tz": 300
    },
    "id": "KVNr92Sf4yn1",
    "outputId": "8b41c77d-2f91-4702-fd1e-25543751b0df"
   },
   "outputs": [
    {
     "name": "stdout",
     "output_type": "stream",
     "text": [
      "--2019-12-03 02:33:04--  https://www-us.apache.org/dist/spark/spark-2.4.4/spark-2.4.4-bin-hadoop2.7.tgz\n",
      "Resolving www-us.apache.org (www-us.apache.org)... 40.79.78.1\n",
      "Connecting to www-us.apache.org (www-us.apache.org)|40.79.78.1|:443... connected.\n",
      "HTTP request sent, awaiting response... 200 OK\n",
      "Length: 230091034 (219M) [application/x-gzip]\n",
      "Saving to: ‘spark-2.4.4-bin-hadoop2.7.tgz.1’\n",
      "\n",
      "spark-2.4.4-bin-had 100%[===================>] 219.43M  30.8MB/s    in 8.2s    \n",
      "\n",
      "2019-12-03 02:33:13 (26.8 MB/s) - ‘spark-2.4.4-bin-hadoop2.7.tgz.1’ saved [230091034/230091034]\n",
      "\n",
      "Requirement already satisfied: findspark in /usr/local/lib/python3.6/dist-packages (1.3.0)\n",
      "Requirement already satisfied: pyspark in /usr/local/lib/python3.6/dist-packages (2.4.4)\n",
      "Requirement already satisfied: py4j==0.10.7 in /usr/local/lib/python3.6/dist-packages (from pyspark) (0.10.7)\n",
      "Go to this URL in a browser: https://accounts.google.com/o/oauth2/auth?client_id=947318989803-6bn6qk8qdgf4n4g3pfee6491hc0brc4i.apps.googleusercontent.com&redirect_uri=urn%3aietf%3awg%3aoauth%3a2.0%3aoob&response_type=code&scope=email%20https%3a%2f%2fwww.googleapis.com%2fauth%2fdocs.test%20https%3a%2f%2fwww.googleapis.com%2fauth%2fdrive%20https%3a%2f%2fwww.googleapis.com%2fauth%2fdrive.photos.readonly%20https%3a%2f%2fwww.googleapis.com%2fauth%2fpeopleapi.readonly\n",
      "\n",
      "Enter your authorization code:\n",
      "··········\n",
      "Mounted at /content/gdrive\n"
     ]
    }
   ],
   "source": [
    "#For use in Google Colab\n",
    "import os\n",
    "\n",
    "import sys\n",
    "!apt-get install openjdk-8-jdk-headless -qq > /dev/null\n",
    "!wget https://www-us.apache.org/dist/spark/spark-2.4.4/spark-2.4.4-bin-hadoop2.7.tgz\n",
    "!tar xf spark-2.4.4-bin-hadoop2.7.tgz\n",
    "!pip install findspark\n",
    "!pip install pyspark\n",
    "\n",
    "os.environ[\"JAVA_HOME\"] = \"/usr/lib/jvm/java-8-openjdk-amd64\"\n",
    "os.environ[\"SPARK_HOME\"] = \"/content/spark-2.4.4-bin-hadoop2.7\"\n",
    "\n",
    "import findspark\n",
    "findspark.init()\n",
    "from pyspark.sql import SparkSession\n",
    "spark = SparkSession.builder.master(\"local[*]\").getOrCreate()\n",
    "\n",
    "from google.colab import drive\n",
    "\n",
    "drive.mount('/content/gdrive')\n",
    "root_path = 'gdrive/My Drive/Colab Notebooks/'\n",
    "\n",
    "root_path = sys.modules['__main__'].root_path\n",
    "instacart_dir_path = root_path + 'instacart/'"
   ]
  },
  {
   "cell_type": "code",
   "execution_count": 0,
   "metadata": {
    "colab": {},
    "colab_type": "code",
    "id": "tb1qmMKyOs9-"
   },
   "outputs": [],
   "source": [
    "'''\n",
    "# For use in Jupyter Notebook\n",
    "# The required procedure for pyspark import\n",
    "# Example taken from : \n",
    "# https://medium.com/@naomi.fridman/install-pyspark-to-run-on-jupyter-notebook-on-windows-4ec2009de21f\n",
    "import findspark\n",
    "findspark.init()\n",
    "findspark.find()\n",
    "\n",
    "import pyspark\n",
    "findspark.find()\n",
    "\n",
    "from pyspark import SparkContext, SparkConf\n",
    "from pyspark.sql import SparkSession\n",
    "\n",
    "conf = pyspark.SparkConf().setAppName('appName').setMaster('local')\n",
    "\n",
    "# Modified config to prevent timeouts\n",
    "conf.set(\"spark.executor.heartbeatInterval\",\"2400s\")\n",
    "conf.set(\"spark.network.timeout\", \"9000s\")\n",
    "sc = pyspark.SparkContext(conf=conf)\n",
    "spark = SparkSession(sc)\n",
    "'''"
   ]
  },
  {
   "cell_type": "code",
   "execution_count": 0,
   "metadata": {
    "colab": {},
    "colab_type": "code",
    "id": "L5UGfDi1ytN-"
   },
   "outputs": [],
   "source": [
    "#For use on google cloud platform\n",
    "root_path = 'gs://tp3_inf8111_bucket/'\n",
    "instacart_dir_path = root_path + 'instacart/'"
   ]
  },
  {
   "cell_type": "code",
   "execution_count": 3,
   "metadata": {
    "colab": {
     "base_uri": "https://localhost:8080/",
     "height": 550
    },
    "colab_type": "code",
    "executionInfo": {
     "elapsed": 7591,
     "status": "ok",
     "timestamp": 1575340446955,
     "user": {
      "displayName": "Pierre-Étienne Le Page",
      "photoUrl": "",
      "userId": "07150735392471165903"
     },
     "user_tz": 300
    },
    "id": "IWIS20uROs-N",
    "outputId": "4fcd3738-1924-44d1-8160-a11d05556b85"
   },
   "outputs": [
    {
     "name": "stdout",
     "output_type": "stream",
     "text": [
      "Toy dataset\n",
      "+--------+-----------+\n",
      "|order_id|transaction|\n",
      "+--------+-----------+\n",
      "|       1|      a;b;c|\n",
      "|       2|      a;b;d|\n",
      "|       3|        b;c|\n",
      "|       4|        b;c|\n",
      "+--------+-----------+\n",
      "\n",
      "Toy dataframe as a RDD object (list of Row objects):\n",
      "\t [Row(order_id='1', transaction='a;b;c'), Row(order_id='2', transaction='a;b;d'), Row(order_id='3', transaction='b;c'), Row(order_id='4', transaction='b;c')]\n",
      "\n",
      "Mapped products:\n",
      "\t [('a', 1), ('b', 1), ('c', 1), ('a', 1), ('b', 1), ('d', 1), ('b', 1), ('c', 1), ('b', 1), ('c', 1)]\n",
      "\n",
      "Reduced (merged) products:\n",
      "\t [('a', 2), ('b', 4), ('c', 3), ('d', 1)]\n",
      "\n",
      "Visualizing as a dataframe:\n",
      "+-------+-------------+\n",
      "|product|count_product|\n",
      "+-------+-------------+\n",
      "|      a|            2|\n",
      "|      b|            4|\n",
      "|      c|            3|\n",
      "|      d|            1|\n",
      "+-------+-------------+\n",
      "\n"
     ]
    }
   ],
   "source": [
    "import pyspark\n",
    "from pyspark.sql import SparkSession\n",
    "\n",
    "def map_to_product(row):\n",
    "    \"\"\"\n",
    "    Map each transaction into a set of KEY-VALUE elements.\n",
    "    The KEY is the word (product) itself and the VALUE is its number of apparitions.\n",
    "    \"\"\"\n",
    "    products = row.transaction.split(';') # split products from the column transaction\n",
    "    for p in products:\n",
    "        yield (p, 1)\n",
    "\n",
    "def reduce_product_by_key(value1, value2):\n",
    "    \"Reduce the mapped objects to unique words by merging (summing ) their values\"\n",
    "    return value1+value2\n",
    "\n",
    "if instacart_dir_path is None:\n",
    "  instacart_dir_path = 'instacart/'\n",
    "\n",
    "if root_path is None:\n",
    "  root_path = ''\n",
    "\n",
    "# Initializates a object of SparkSession class, main entry point to Spark's funcionalites\n",
    "spark = SparkSession.builder.getOrCreate()\n",
    "\n",
    "# Read a toy dataset\n",
    "toy = spark.read.csv(root_path + 'toy.csv', header=True)\n",
    "print(\"Toy dataset\")\n",
    "toy.show()\n",
    "\n",
    "# Obtain a RDD object to call a map function\n",
    "toy_rdd = toy.rdd\n",
    "print(\"Toy dataframe as a RDD object (list of Row objects):\\n\\t\", toy_rdd.collect())\n",
    "\n",
    "# Map function to identify all products\n",
    "toy_rdd = toy_rdd.flatMap(map_to_product)\n",
    "print(\"\\nMapped products:\\n\\t\", toy_rdd.collect())\n",
    "\n",
    "# Reduce function to merge values of elements that share the same KEY\n",
    "toy_rdd = toy_rdd.reduceByKey(reduce_product_by_key)\n",
    "print(\"\\nReduced (merged) products:\\n\\t\", toy_rdd.collect())\n",
    "\n",
    "print(\"\\nVisualizing as a dataframe:\")\n",
    "toy_rdd.toDF([\"product\", \"count_product\"]).show()"
   ]
  },
  {
   "cell_type": "markdown",
   "metadata": {
    "colab_type": "text",
    "id": "HUvSi9eIOs-f"
   },
   "source": [
    "### 1.2 Working the Spark's Dataframe\n",
    "\n",
    "In the example above, we briefly used a Spark's Dataframe class, but only to obtain an RDD object with ```toy.rdd``` and to print the data as a structured table with the ```show()``` function. However, [Dataframe](https://spark.apache.org/docs/latest/api/python/pyspark.sql.html#) is a big part of the current Spark release and is built upon the RDD API. It is a distributed collection of rows under named columns, the same as a table in a relational database. Spark's Dataframe works similarily as [Pandas'](https://pandas.pydata.org/pandas-docs/stable/reference/api/pandas.DataFrame.html). In fact, we can export (obtain) a Spark's data frame to (from) a pandas' data frame with the function ```toPandas()``` (```spark.createDataFrame```).\n",
    "\n",
    "A central functionality of the data frame is to profit from the [Spark SQL](https://spark.apache.org/docs/latest/sql-programming-guide.html#sql), a module that allows SQL queries over structured data. For example, the same 'product counting example' could have been implemented as a sequence of SQL operations over the data:  "
   ]
  },
  {
   "cell_type": "code",
   "execution_count": 0,
   "metadata": {
    "colab": {
     "base_uri": "https://localhost:8080/",
     "height": 495
    },
    "colab_type": "code",
    "executionInfo": {
     "elapsed": 5344,
     "status": "ok",
     "timestamp": 1575327026745,
     "user": {
      "displayName": "Pierre-Étienne Le Page",
      "photoUrl": "",
      "userId": "07150735392471165903"
     },
     "user_tz": 300
    },
    "id": "aP6PYp5fOs-j",
    "outputId": "8748854c-4114-4958-b887-030567f32ff9"
   },
   "outputs": [
    {
     "name": "stdout",
     "output_type": "stream",
     "text": [
      "New column 'products': exploding the transaction's products to a new row\n",
      "+--------+-----------+--------+\n",
      "|order_id|transaction|products|\n",
      "+--------+-----------+--------+\n",
      "|       1|      a;b;c|       a|\n",
      "|       1|      a;b;c|       b|\n",
      "|       1|      a;b;c|       c|\n",
      "|       2|      a;b;d|       a|\n",
      "|       2|      a;b;d|       b|\n",
      "|       2|      a;b;d|       d|\n",
      "|       3|        b;c|       b|\n",
      "|       3|        b;c|       c|\n",
      "|       4|        b;c|       b|\n",
      "|       4|        b;c|       c|\n",
      "+--------+-----------+--------+\n",
      "\n",
      "Couting unique products:\n",
      "+--------+-------------+\n",
      "|products|count_product|\n",
      "+--------+-------------+\n",
      "|       b|            4|\n",
      "|       c|            3|\n",
      "|       a|            2|\n",
      "|       d|            1|\n",
      "+--------+-------------+\n",
      "\n"
     ]
    }
   ],
   "source": [
    "import pyspark.sql.functions as f\n",
    "\n",
    "# Creates a new column, products, with all products appering in each transaction\n",
    "print('New column \\'products\\': exploding the transaction\\'s products to a new row')\n",
    "df_toy = toy.withColumn('products', f.explode(f.split(toy.transaction, ';')))\n",
    "df_toy.show()\n",
    "\n",
    "# Performs a select query and group rows by the product name, aggreagating by counting\n",
    "print('Couting unique products:')\n",
    "df_toy.select(df_toy.products)\\\n",
    "      .groupBy(df_toy.products)\\\n",
    "      .agg(f.count('products').alias('count_product'))\\\n",
    "      .sort('count_product', ascending=False)\\\n",
    "      .show()"
   ]
  },
  {
   "cell_type": "markdown",
   "metadata": {
    "colab_type": "text",
    "id": "rVwso1oZOs-x"
   },
   "source": [
    "Also, the same SQL operations performed above could have been done with a traditional SQL language query as showing below:"
   ]
  },
  {
   "cell_type": "code",
   "execution_count": 0,
   "metadata": {
    "colab": {
     "base_uri": "https://localhost:8080/",
     "height": 182
    },
    "colab_type": "code",
    "executionInfo": {
     "elapsed": 3691,
     "status": "ok",
     "timestamp": 1575309571295,
     "user": {
      "displayName": "Pierre-Étienne Le Page",
      "photoUrl": "",
      "userId": "07150735392471165903"
     },
     "user_tz": 300
    },
    "id": "btMnW1ckOs-1",
    "outputId": "dda6f0ba-7dfe-4374-de8c-4242fa1c75de"
   },
   "outputs": [
    {
     "name": "stdout",
     "output_type": "stream",
     "text": [
      "+--------+-------------+\n",
      "|products|product_count|\n",
      "+--------+-------------+\n",
      "|       b|            4|\n",
      "|       c|            3|\n",
      "|       a|            2|\n",
      "|       d|            1|\n",
      "+--------+-------------+\n",
      "\n"
     ]
    }
   ],
   "source": [
    "# Creates a relational table TOY in the Spark session\n",
    "df_toy.createOrReplaceTempView(\"TOY\")\n",
    "\n",
    "spark.sql(\"SELECT t.products, COUNT(t.products) AS product_count\"\n",
    "          \" FROM TOY t\"\n",
    "          \" GROUP BY t.products\"\n",
    "          \" ORDER BY product_count DESC\").show()"
   ]
  },
  {
   "cell_type": "markdown",
   "metadata": {
    "colab_type": "text",
    "id": "m2_EfpGmOs_A"
   },
   "source": [
    "These SQL concepts are being mentioned here because they will be useful to us during the TP, mainly in Section 3, to manipulate the supermarket data, which is structured in data frames. Then, if you are not familiar with SQL, it is recommended that you follow a [tutorial](https://www.w3schools.com/sql/) to understand the basics.\n",
    "\n",
    "## 2. MBA Algorithm \n",
    " The following sections explain how you should develop each step of the MapReduce algorithm for our supermarket application. Figure workflow.png illustrates each step of the algorithm.\n",
    " \n",
    "### 2.1 Map to Patterns (10 points)\n",
    "For a given a set of transactions (i.e., the rows of our toy dataset), each transaction must be **mapped** into a set of *purchase patterns* found within the transaction. Formally, these patterns are subsets of products that represent a group of items bought together. \n",
    "    \n",
    "For the MapReduce framework, each pattern must be created as a *KEY-VALUE* element, where they KEY can take the form of a singleton, a pair or a trio of products that are present in the transaction. More precisely, for each transaction, the mapping function must generate all possible **unique** subsets of size **ONE, TWO or THREE**.  The VALUE associated with each KEY is the number of times that the KEY appeared in the transaction (if we assume that no product appears more than once in the transaction, this value is always equal to one). \n",
    "\n",
    "Now, implement the  **map_to_patterns** function that receives a transaction (a row from the data frame) and returns the patterns found in the transaction. The mapped elements are a tuple (KEY, VALUE), where KEY is also a tuple of product names. It is crucial to notice that, since each entry (transaction) of the map function will **yield** more than one KEY-VALUE element, a *flatMap* must be invoked for this step.\n",
    "\n",
    "For the toy dataset, the expected output is similar to:\n",
    "\n",
    "<pre style=\"align:center; border:1px solid black;font-size: 10pt; line-height: 1.1; height: auto; width: 18em; padding-left:5px\">\n",
    "<code>\n",
    "+---------------+-----------+\n",
    "|       patterns|occurrences|\n",
    "+---------------+-----------+\n",
    "|         ('a',)|          1|\n",
    "|     ('a', 'b')|          1|\n",
    "|('a', 'b', 'c')|          1|\n",
    "|     ('a', 'c')|          1|\n",
    "|         ('b',)|          1|\n",
    "|     ('b', 'c')|          1|\n",
    "|         ('c',)|          1|\n",
    "|         ('a',)|          1|\n",
    "|     ('a', 'b')|          1|\n",
    "|('a', 'b', 'd')|          1|\n",
    "|     ('a', 'd')|          1|\n",
    "|         ('b',)|          1|\n",
    "|     ('b', 'd')|          1|\n",
    "|         ('d',)|          1|\n",
    "|         ('b',)|          1|\n",
    "|     ('b', 'c')|          1|\n",
    "|         ('c',)|          1|\n",
    "|         ('b',)|          1|\n",
    "|     ('b', 'c')|          1|\n",
    "|         ('c',)|          1|\n",
    "+---------------+-----------+\n",
    "</code>\n",
    "</pre>"
   ]
  },
  {
   "cell_type": "code",
   "execution_count": 4,
   "metadata": {
    "colab": {
     "base_uri": "https://localhost:8080/",
     "height": 513
    },
    "colab_type": "code",
    "executionInfo": {
     "elapsed": 1022,
     "status": "ok",
     "timestamp": 1575340460358,
     "user": {
      "displayName": "Pierre-Étienne Le Page",
      "photoUrl": "",
      "userId": "07150735392471165903"
     },
     "user_tz": 300
    },
    "id": "sWhNDp6pOs_D",
    "outputId": "ec905f6a-c01a-47d6-f874-9735f62d561a"
   },
   "outputs": [
    {
     "name": "stdout",
     "output_type": "stream",
     "text": [
      "+---------------+-----------+\n",
      "|       patterns|occurrences|\n",
      "+---------------+-----------+\n",
      "|         ('a',)|          1|\n",
      "|     ('a', 'b')|          1|\n",
      "|('a', 'b', 'c')|          1|\n",
      "|     ('a', 'c')|          1|\n",
      "|         ('b',)|          1|\n",
      "|     ('b', 'c')|          1|\n",
      "|         ('c',)|          1|\n",
      "|         ('a',)|          1|\n",
      "|     ('a', 'b')|          1|\n",
      "|('a', 'b', 'd')|          1|\n",
      "|     ('a', 'd')|          1|\n",
      "|         ('b',)|          1|\n",
      "|     ('b', 'd')|          1|\n",
      "|         ('d',)|          1|\n",
      "|         ('b',)|          1|\n",
      "|     ('b', 'c')|          1|\n",
      "|         ('c',)|          1|\n",
      "|         ('b',)|          1|\n",
      "|     ('b', 'c')|          1|\n",
      "|         ('c',)|          1|\n",
      "+---------------+-----------+\n",
      "\n",
      "CPU times: user 21.9 ms, sys: 6.53 ms, total: 28.5 ms\n",
      "Wall time: 247 ms\n"
     ]
    }
   ],
   "source": [
    "%%time\n",
    "\n",
    "from pyspark.sql import SparkSession\n",
    "import pyspark.sql.functions as f\n",
    "\n",
    "def format_tuples(pattern):\n",
    "    \"\"\"\n",
    "    Used for visualizition.\n",
    "    Transforms tuples to a string since Dataframe does not support column of tuples with different sizes\n",
    "    (a,b,c) -> '(a,b,c)'\n",
    "    \"\"\"\n",
    "    return (str(pattern[0]), str(pattern[1]))\n",
    "\n",
    "def map_to_patterns(row):\n",
    "    \n",
    "    products = row.transaction.split(';') # split products from the column transaction\n",
    "    products.sort()\n",
    "    \n",
    "    if products is not None:\n",
    "        for i in range(len(products)):\n",
    "            \n",
    "            if not products[i]:\n",
    "                continue\n",
    "                \n",
    "            yield ((products[i],), 1)\n",
    "            \n",
    "            for j in range(len(products)):\n",
    "                if i >= j:\n",
    "                    continue\n",
    "\n",
    "                yield ((products[i], products[j]), 1)\n",
    "                \n",
    "                for k in range(len(products)):\n",
    "                    if j >= k:\n",
    "                        continue\n",
    "                    \n",
    "                    yield((products[i], products[j], products[k]), 1) \n",
    "\n",
    "toy_rdd = toy.rdd\n",
    "patterns_rdd = toy_rdd.flatMap(map_to_patterns)\n",
    "# Output as dataframe\n",
    "patterns_rdd.map(format_tuples).toDF(['patterns', 'occurrences']).show()"
   ]
  },
  {
   "cell_type": "markdown",
   "metadata": {
    "colab_type": "text",
    "id": "geljymeVOs_N"
   },
   "source": [
    "### 2.2 Reduce patterns (2.5 points)\n",
    "Once different CPUs processed the transactions, a **reduce** function must take place to combine identical KEYS (the subset of products) and compute the total number of its occurrences in the entire dataset. In other words, this reduce procedure must sum the *VALUE* of each identical KEY.\n",
    "\n",
    "Create a **reduce_patterns** function below that must sum the VALUE of each pattern.\n",
    "For the toy dataset, the expected output is:\n",
    "<pre style=\"align:center; border:1px solid black;font-size: 10pt; line-height: 1.1; height: auto; width: 24em; padding-left:5px\">\n",
    "<code>\n",
    "+---------------+--------------------+\n",
    "|       patterns|combined_occurrences|\n",
    "+---------------+--------------------+\n",
    "|         ('a',)|                   2|\n",
    "|     ('a', 'b')|                   2|\n",
    "|('a', 'b', 'c')|                   1|\n",
    "|     ('a', 'c')|                   1|\n",
    "|         ('b',)|                   4|\n",
    "|     ('b', 'c')|                   3|\n",
    "|         ('c',)|                   3|\n",
    "|('a', 'b', 'd')|                   1|\n",
    "|     ('a', 'd')|                   1|\n",
    "|     ('b', 'd')|                   1|\n",
    "|         ('d',)|                   1|\n",
    "+---------------+--------------------+\n",
    "</code>\n",
    "</pre>\n"
   ]
  },
  {
   "cell_type": "code",
   "execution_count": 5,
   "metadata": {
    "colab": {
     "base_uri": "https://localhost:8080/",
     "height": 311
    },
    "colab_type": "code",
    "executionInfo": {
     "elapsed": 1351,
     "status": "ok",
     "timestamp": 1575340468377,
     "user": {
      "displayName": "Pierre-Étienne Le Page",
      "photoUrl": "",
      "userId": "07150735392471165903"
     },
     "user_tz": 300
    },
    "id": "vXyY7do-Os_Q",
    "outputId": "1f81996c-f477-4b1a-f6f6-d54662ce728e"
   },
   "outputs": [
    {
     "name": "stdout",
     "output_type": "stream",
     "text": [
      "+---------------+--------------------+\n",
      "|       patterns|combined_occurrences|\n",
      "+---------------+--------------------+\n",
      "|         ('a',)|                   2|\n",
      "|     ('a', 'b')|                   2|\n",
      "|('a', 'b', 'c')|                   1|\n",
      "|     ('a', 'c')|                   1|\n",
      "|         ('b',)|                   4|\n",
      "|     ('b', 'c')|                   3|\n",
      "|         ('c',)|                   3|\n",
      "|('a', 'b', 'd')|                   1|\n",
      "|     ('a', 'd')|                   1|\n",
      "|     ('b', 'd')|                   1|\n",
      "|         ('d',)|                   1|\n",
      "+---------------+--------------------+\n",
      "\n"
     ]
    }
   ],
   "source": [
    "def reduce_pattern_by_key(value1, value2):\n",
    "    return value1 + value2\n",
    "\n",
    "combined_patterns_rdd = patterns_rdd.reduceByKey(reduce_pattern_by_key)\n",
    "\n",
    "# Output as dataframe\n",
    "combined_patterns_rdd.map(format_tuples).toDF(['patterns', 'combined_occurrences']).show()"
   ]
  },
  {
   "cell_type": "markdown",
   "metadata": {
    "colab_type": "text",
    "id": "S8Mj9Z0VOs_d"
   },
   "source": [
    "### 2.3 Map to subpatterns (15 points)\n",
    "Next, another **map** function should be applied to generate subpatterns. Once again, the subpatterns are KEY-VALUE elements, where the KEY is a subset of products as well. However, creating the subpattern's KEY is a different procedure. This time, the idea is to break down the list of products of each pattern (pattern KEY), remove one product at a time, and yield the resulting list as the new subpattern KEY. \n",
    "\n",
    "For example, for a given pattern $P$ with three products, $p_1, p_2 $ and $p_3$, three new subpatterns KEYs are going to be created: (i) remove $p_1$ and yield ($p_2, p_3$); (ii) remove $p_2$ and yield ($p_1,p_3$); and (iii) remove $p_3$ and yield ($p_1,p_2$). \n",
    "\n",
    "Additionally, the subpattern's VALUE structure will also be different. Instead of just single integer value as we had in the patterns, this time a *tuple* should be created for the subpattern VALUE. This tuple contains the product that was removed when yielding the KEY and the number of times the pattern appeared. For the example above, the values should be ($p_1,v$), ($p_2,v$) and ($p_3,v$), respectively, where $v$ is the VALUE of the pattern. \n",
    "\n",
    "The idea behind subpatterns is to create **rules** such as: when the products of KEY were bought, the item present in the VALUE was also bought *v* times. Furthermore, each pattern should also yield a subpattern where the KEY is the same list of products of the pattern, but the VALUE is a tuple with a null product (None) and the number of times the pattern appeared. This element will be useful to keep track of how many times such a pattern was found and later will be used to compute the confidence value when generating the association rules. \n",
    "\n",
    "Now, implement the  **map_to_subpatterns** function that receives a pattern and yields all found subpatterns. Once again, each entry (pattern) will generate more than one KEY-VALUE element, then a flatMap function must be called.\n",
    "\n",
    "For the toy dataset, the expected output is:\n",
    "\n",
    "<pre style=\"align:center; border:1px solid black;font-size: 10pt; line-height: 1.1; height: auto; width: 17em; padding-left:5px\">\n",
    "<code>\n",
    "+---------------+---------+\n",
    "|    subpatterns|    rules|\n",
    "+---------------+---------+\n",
    "|         ('a',)|(None, 2)|\n",
    "|     ('a', 'b')|(None, 2)|\n",
    "|         ('b',)| ('a', 2)|\n",
    "|         ('a',)| ('b', 2)|\n",
    "|('a', 'b', 'c')|(None, 1)|\n",
    "|     ('b', 'c')| ('a', 1)|\n",
    "|     ('a', 'c')| ('b', 1)|\n",
    "|     ('a', 'b')| ('c', 1)|\n",
    "|     ('a', 'c')|(None, 1)|\n",
    "|         ('c',)| ('a', 1)|\n",
    "|         ('a',)| ('c', 1)|\n",
    "|         ('b',)|(None, 4)|\n",
    "|     ('b', 'c')|(None, 3)|\n",
    "|         ('c',)| ('b', 3)|\n",
    "|         ('b',)| ('c', 3)|\n",
    "|         ('c',)|(None, 3)|\n",
    "|('a', 'b', 'd')|(None, 1)|\n",
    "|     ('b', 'd')| ('a', 1)|\n",
    "|     ('a', 'd')| ('b', 1)|\n",
    "|     ('a', 'b')| ('d', 1)|\n",
    "|     ('a', 'd')|(None, 1)|\n",
    "|         ('d',)| ('a', 1)|\n",
    "|         ('a',)| ('d', 1)|\n",
    "|     ('b', 'd')|(None, 1)|\n",
    "|         ('d',)| ('b', 1)|\n",
    "|         ('b',)| ('d', 1)|\n",
    "|         ('d',)|(None, 1)|\n",
    "+---------------+---------+\n",
    "</code>\n",
    "</pre>"
   ]
  },
  {
   "cell_type": "code",
   "execution_count": 6,
   "metadata": {
    "colab": {
     "base_uri": "https://localhost:8080/",
     "height": 605
    },
    "colab_type": "code",
    "executionInfo": {
     "elapsed": 1191,
     "status": "ok",
     "timestamp": 1575340476107,
     "user": {
      "displayName": "Pierre-Étienne Le Page",
      "photoUrl": "",
      "userId": "07150735392471165903"
     },
     "user_tz": 300
    },
    "id": "Ox43kZttOs_p",
    "outputId": "ef1fec5b-3e3c-4ce4-9ae5-945fb88cc16a"
   },
   "outputs": [
    {
     "name": "stdout",
     "output_type": "stream",
     "text": [
      "+---------------+---------+\n",
      "|    subpatterns|    rules|\n",
      "+---------------+---------+\n",
      "|         ('a',)|(None, 2)|\n",
      "|     ('a', 'b')|(None, 2)|\n",
      "|         ('b',)| ('a', 2)|\n",
      "|         ('a',)| ('b', 2)|\n",
      "|('a', 'b', 'c')|(None, 1)|\n",
      "|     ('b', 'c')| ('a', 1)|\n",
      "|     ('a', 'c')| ('b', 1)|\n",
      "|     ('a', 'b')| ('c', 1)|\n",
      "|     ('a', 'c')|(None, 1)|\n",
      "|         ('c',)| ('a', 1)|\n",
      "|         ('a',)| ('c', 1)|\n",
      "|         ('b',)|(None, 4)|\n",
      "|     ('b', 'c')|(None, 3)|\n",
      "|         ('c',)| ('b', 3)|\n",
      "|         ('b',)| ('c', 3)|\n",
      "|         ('c',)|(None, 3)|\n",
      "|('a', 'b', 'd')|(None, 1)|\n",
      "|     ('b', 'd')| ('a', 1)|\n",
      "|     ('a', 'd')| ('b', 1)|\n",
      "|     ('a', 'b')| ('d', 1)|\n",
      "|     ('a', 'd')|(None, 1)|\n",
      "|         ('d',)| ('a', 1)|\n",
      "|         ('a',)| ('d', 1)|\n",
      "|     ('b', 'd')|(None, 1)|\n",
      "|         ('d',)| ('b', 1)|\n",
      "|         ('b',)| ('d', 1)|\n",
      "|         ('d',)|(None, 1)|\n",
      "+---------------+---------+\n",
      "\n"
     ]
    }
   ],
   "source": [
    "from copy import deepcopy\n",
    "\n",
    "def map_to_subpatterns(pattern):\n",
    "    \n",
    "    lst_transactions = pattern[0]\n",
    "    pattern_count = pattern[1]\n",
    "        \n",
    "    yield ((tuple(lst_transactions), None), pattern_count)\n",
    "    \n",
    "    if len(lst_transactions) > 1:\n",
    "        \n",
    "        for transaction_to_remove in lst_transactions:\n",
    "\n",
    "            resulting_transactions = list(deepcopy(lst_transactions))\n",
    "\n",
    "            resulting_transactions.remove(transaction_to_remove)\n",
    "\n",
    "            yield ((tuple(resulting_transactions), transaction_to_remove), pattern_count)\n",
    "    \n",
    "\n",
    "subpatterns_rdd = combined_patterns_rdd.flatMap(map_to_subpatterns).reduceByKey(lambda x,y: x + y).map(lambda x : (x[0][0], (x[0][1], x[1])))\n",
    "\n",
    "# Output as dataframe\n",
    "subpatterns_rdd.map(format_tuples).toDF(['subpatterns', 'rules']).show(100)"
   ]
  },
  {
   "cell_type": "markdown",
   "metadata": {
    "colab_type": "text",
    "id": "-pU_tQlyOs_0"
   },
   "source": [
    "### 2.4 Reduce Subpatterns (2.5 points)\n",
    "Once again, a **reduce** function will be required to group all the subpatterns by their KEY. The objective of this reducing procedure is to create a list with all the **rules** that appeared by a KEY. Hence, the expected resulting of the reduce function is also a KEY-VALUE element, where the KEY is the subpattern's KEY, and the VALUE is a group containing all the VALUEs of the subpatterns that share the same KEY.\n",
    "\n",
    "For the toy dataset, the expected output is:\n",
    "\n",
    "<pre style=\"align:center; border:1px solid black;font-size: 10pt; line-height: 1.1; height: auto; width: 36em; padding-left:5px\">\n",
    "<code>\n",
    "+---------------+-----------------------------------------+\n",
    "|subpatterns    |combined_rules                           |\n",
    "+---------------+-----------------------------------------+\n",
    "|('a',)         |[(None, 2), ('b', 2), ('c', 1), ('d', 1)]|\n",
    "|('a', 'b')     |[(None, 2), ('c', 1), ('d', 1)]          |\n",
    "|('b',)         |[('a', 2), (None, 4), ('c', 3), ('d', 1)]|\n",
    "|('a', 'b', 'c')|[(None, 1)]                              |\n",
    "|('b', 'c')     |[('a', 1), (None, 3)]                    |\n",
    "|('a', 'c')     |[('b', 1), (None, 1)]                    |\n",
    "|('c',)         |[('a', 1), ('b', 3), (None, 3)]          |\n",
    "|('a', 'b', 'd')|[(None, 1)]                              |\n",
    "|('b', 'd')     |[('a', 1), (None, 1)]                    |\n",
    "|('a', 'd')     |[('b', 1), (None, 1)]                    |\n",
    "|('d',)         |[('a', 1), ('b', 1), (None, 1)]          |\n",
    "+---------------+-----------------------------------------+\n",
    "</code>\n",
    "</pre>\n"
   ]
  },
  {
   "cell_type": "code",
   "execution_count": 7,
   "metadata": {
    "colab": {
     "base_uri": "https://localhost:8080/",
     "height": 311
    },
    "colab_type": "code",
    "executionInfo": {
     "elapsed": 1415,
     "status": "ok",
     "timestamp": 1575340489164,
     "user": {
      "displayName": "Pierre-Étienne Le Page",
      "photoUrl": "",
      "userId": "07150735392471165903"
     },
     "user_tz": 300
    },
    "id": "bplR61W3Os_4",
    "outputId": "40d71f20-5906-4b52-e3f3-de64bd8754e8"
   },
   "outputs": [
    {
     "name": "stdout",
     "output_type": "stream",
     "text": [
      "+---------------+-----------------------------------------+\n",
      "|subpatterns    |combined_rules                           |\n",
      "+---------------+-----------------------------------------+\n",
      "|('a',)         |[(None, 2), ('b', 2), ('c', 1), ('d', 1)]|\n",
      "|('a', 'b')     |[(None, 2), ('c', 1), ('d', 1)]          |\n",
      "|('b',)         |[('a', 2), (None, 4), ('c', 3), ('d', 1)]|\n",
      "|('a', 'b', 'c')|[(None, 1)]                              |\n",
      "|('b', 'c')     |[('a', 1), (None, 3)]                    |\n",
      "|('a', 'c')     |[('b', 1), (None, 1)]                    |\n",
      "|('c',)         |[('a', 1), ('b', 3), (None, 3)]          |\n",
      "|('a', 'b', 'd')|[(None, 1)]                              |\n",
      "|('b', 'd')     |[('a', 1), (None, 1)]                    |\n",
      "|('a', 'd')     |[('b', 1), (None, 1)]                    |\n",
      "|('d',)         |[('a', 1), ('b', 1), (None, 1)]          |\n",
      "+---------------+-----------------------------------------+\n",
      "\n"
     ]
    }
   ],
   "source": [
    "combined_rules = subpatterns_rdd.map(lambda x: (x[0],[x[1]])).reduceByKey(lambda x , y: x + y)\n",
    "\n",
    "# Output as dataframe\n",
    "combined_rules.map(format_tuples).toDF(['subpatterns', 'combined_rules']).show(truncate=False)"
   ]
  },
  {
   "cell_type": "markdown",
   "metadata": {
    "colab_type": "text",
    "id": "GcXjymaVOtAA"
   },
   "source": [
    "## 2.5. Map to Association Rules (15 points)\n",
    "Finally, the last step of the algorithm is to create the association rules to perform the market basket analysis. The goal of this map function is to calculate the **confidence** level of buying a product, knowing that there is already a set of products in the basket. Thus, the KEY of the subpattern is the set of products placed in the basket and, for each product present in the list of rules, i.e., in the VALUE, the confidence can be calculated as:\n",
    "\n",
    "\\begin{align*}\n",
    "\\frac{\\text{number of times the product was bought together with KEY }}{\\text{number of times the KEY appeared}}\n",
    "\\end{align*}\n",
    "\n",
    "For the example given in the Figure workflow, *coffee* was bought 20 times and, in 17 of them, *milk* was bought together. Then, the confidence level of buying *milk* knowing that *coffee* is in the basket is $\\frac{17}{20} = 0.85$, which means that in 85% of the times the coffee was bought, milk was purchased as well.\n",
    "\n",
    "Implement the **map_to_assoc_rules** function that calculates the confidence level for each subpattern.\n",
    "\n",
    "For the toy dataset, the expected output is:\n",
    "<pre style=\"align:center; border:1px solid black;font-size: 9pt; line-height: 1.1; height: auto; width: 35em; padding-left:5px\">\n",
    "<code>\n",
    "+---------------+---------------------------------------+\n",
    "|patterns       |association_rules                      |\n",
    "+---------------+---------------------------------------+\n",
    "|('a',)         |[('b', 1.0), ('c', 0.5), ('d', 0.5)]   |\n",
    "|('a', 'b')     |[('c', 0.5), ('d', 0.5)]               |\n",
    "|('b',)         |[('a', 0.5), ('c', 0.75), ('d', 0.25)] |\n",
    "|('a', 'b', 'c')|[]                                     |\n",
    "|('b', 'c')     |[('a', 0.3333333333333333)]            |\n",
    "|('a', 'c')     |[('b', 1.0)]                           |\n",
    "|('c',)         |[('a', 0.3333333333333333), ('b', 1.0)]|\n",
    "|('a', 'b', 'd')|[]                                     |\n",
    "|('b', 'd')     |[('a', 1.0)]                           |\n",
    "|('a', 'd')     |[('b', 1.0)]                           |\n",
    "|('d',)         |[('a', 1.0), ('b', 1.0)]               |\n",
    "+---------------+---------------------------------------+\n",
    "</code>\n",
    "</pre>"
   ]
  },
  {
   "cell_type": "code",
   "execution_count": 8,
   "metadata": {
    "colab": {
     "base_uri": "https://localhost:8080/",
     "height": 311
    },
    "colab_type": "code",
    "executionInfo": {
     "elapsed": 1024,
     "status": "ok",
     "timestamp": 1575340494741,
     "user": {
      "displayName": "Pierre-Étienne Le Page",
      "photoUrl": "",
      "userId": "07150735392471165903"
     },
     "user_tz": 300
    },
    "id": "DQXs8DCuOtAC",
    "outputId": "414b6ed5-38e0-4a81-cf59-a5b17471c2fd"
   },
   "outputs": [
    {
     "name": "stdout",
     "output_type": "stream",
     "text": [
      "+---------------+--------------------------------------+\n",
      "|patterns       |association_rules                     |\n",
      "+---------------+--------------------------------------+\n",
      "|('a',)         |[('b', 1.0), ('c', 0.5), ('d', 0.5)]  |\n",
      "|('a', 'b')     |[('c', 0.5), ('d', 0.5)]              |\n",
      "|('b',)         |[('a', 0.5), ('c', 0.75), ('d', 0.25)]|\n",
      "|('a', 'b', 'c')|[]                                    |\n",
      "|('b', 'c')     |[('a', 0.33)]                         |\n",
      "|('a', 'c')     |[('b', 1.0)]                          |\n",
      "|('c',)         |[('a', 0.33), ('b', 1.0)]             |\n",
      "|('a', 'b', 'd')|[]                                    |\n",
      "|('b', 'd')     |[('a', 1.0)]                          |\n",
      "|('a', 'd')     |[('b', 1.0)]                          |\n",
      "|('d',)         |[('a', 1.0), ('b', 1.0)]              |\n",
      "+---------------+--------------------------------------+\n",
      "\n"
     ]
    }
   ],
   "source": [
    "def map_to_assoc_rules(rule):\n",
    "    pattern = rule[0]\n",
    "    combined_rules = rule[1]\n",
    "    \n",
    "    nb_times_key_appeared = -1\n",
    "    \n",
    "    other_occurences = []\n",
    "    \n",
    "    for occurence in combined_rules:\n",
    "        if occurence[0] is None:\n",
    "            nb_times_key_appeared = occurence[1]\n",
    "        else:\n",
    "            other_occurences.append(occurence)\n",
    "\n",
    "    if len(other_occurences) == 0:\n",
    "        yield (rule[0], [])\n",
    "    \n",
    "    for occurence in other_occurences:\n",
    "        yield (rule[0], [(occurence[0], round(float(occurence[1]) / float(nb_times_key_appeared), 2))])\n",
    "    \n",
    "\n",
    "assoc_rules = combined_rules.flatMap(map_to_assoc_rules).reduceByKey(lambda x , y: x + y)\n",
    "\n",
    "# Output as dataframe\n",
    "assoc_rules.map(format_tuples).toDF(['patterns', 'association_rules']).show(truncate=False)"
   ]
  },
  {
   "cell_type": "markdown",
   "metadata": {
    "colab_type": "text",
    "id": "1_Sf6TtdOtAJ"
   },
   "source": [
    "## 3. Instacart dataset\n",
    "\n",
    "With your MBA algorithm ready to be used, now it is time to work on the real dataset. For this part of the TP, download the [instacart](https://www.instacart.com/datasets/grocery-shopping-2017) dataset and read its [description](https://gist.github.com/jeremystan/c3b39d947d9b88b3ccff3147dbcf6c6b) to understand how the dataset is structured. \n",
    "\n",
    "Before applying the developed algorithm on the instacart dataset, you must first filter the transactions to be in the same format defined by your algorithm (one transaction per row). To manipulate the data, we can use Spark's data frame and the SQL module presented in Section 1.\n",
    "\n",
    "The following code cell uses the Spark SQL module to read the orders from the ``order_products__train.csv`` and the detailed information from ``orders.csv`` and ``products.csv`` to construct a data frame that contains a list of all products ever purchased by each user."
   ]
  },
  {
   "cell_type": "code",
   "execution_count": 0,
   "metadata": {
    "colab": {
     "base_uri": "https://localhost:8080/",
     "height": 880
    },
    "colab_type": "code",
    "executionInfo": {
     "elapsed": 49380,
     "status": "ok",
     "timestamp": 1575327113303,
     "user": {
      "displayName": "Pierre-Étienne Le Page",
      "photoUrl": "",
      "userId": "07150735392471165903"
     },
     "user_tz": 300
    },
    "id": "4l1lLKKyOtAM",
    "outputId": "3bad7b94-456e-41a7-c341-541bb6829e55",
    "scrolled": false
   },
   "outputs": [
    {
     "name": "stdout",
     "output_type": "stream",
     "text": [
      "order_products__train.csv\n",
      "+--------+----------+-----------------+---------+\n",
      "|order_id|product_id|add_to_cart_order|reordered|\n",
      "+--------+----------+-----------------+---------+\n",
      "|       1|     49302|                1|        1|\n",
      "|       1|     11109|                2|        1|\n",
      "|       1|     10246|                3|        0|\n",
      "|       1|     49683|                4|        0|\n",
      "|       1|     43633|                5|        1|\n",
      "+--------+----------+-----------------+---------+\n",
      "only showing top 5 rows\n",
      "\n",
      "orders.csv\n",
      "+--------+-------+--------+------------+---------+-----------------+----------------------+\n",
      "|order_id|user_id|eval_set|order_number|order_dow|order_hour_of_day|days_since_prior_order|\n",
      "+--------+-------+--------+------------+---------+-----------------+----------------------+\n",
      "| 2539329|      1|   prior|           1|        2|                8|                  null|\n",
      "| 2398795|      1|   prior|           2|        3|                7|                  15.0|\n",
      "|  473747|      1|   prior|           3|        3|               12|                  21.0|\n",
      "| 2254736|      1|   prior|           4|        4|                7|                  29.0|\n",
      "|  431534|      1|   prior|           5|        4|               15|                  28.0|\n",
      "+--------+-------+--------+------------+---------+-----------------+----------------------+\n",
      "only showing top 5 rows\n",
      "\n",
      "products.csv\n",
      "+----------+--------------------+--------+-------------+\n",
      "|product_id|        product_name|aisle_id|department_id|\n",
      "+----------+--------------------+--------+-------------+\n",
      "|         1|Chocolate Sandwic...|      61|           19|\n",
      "|         2|    All-Seasons Salt|     104|           13|\n",
      "|         3|Robust Golden Uns...|      94|            7|\n",
      "|         4|Smart Ones Classi...|      38|            1|\n",
      "|         5|Green Chile Anyti...|       5|           13|\n",
      "+----------+--------------------+--------+-------------+\n",
      "only showing top 5 rows\n",
      "\n",
      "+-------+--------------------------------------------------------------------------------+\n",
      "|user_id|                                                                        products|\n",
      "+-------+--------------------------------------------------------------------------------+\n",
      "|      1|[Soda, Organic String Cheese, 0% Greek Strained Yogurt, XL Pick-A-Size Paper ...|\n",
      "|      2|[Organic Roasted Turkey Breast, Gluten Free Whole Grain Bread, Plantain Chips...|\n",
      "|      5|[Organic Raw Agave Nectar, Organic Large Extra Fancy Fuji Apple, Sharp Chedda...|\n",
      "|      7|[Panama Peach Antioxidant Infusion, Antioxidant Infusions Beverage Malawi Man...|\n",
      "|      8|[Shallot, Organic SprouTofu Silken Tofu, Nutritional Yeast Seasoning, Organic...|\n",
      "+-------+--------------------------------------------------------------------------------+\n",
      "only showing top 5 rows\n",
      "\n"
     ]
    }
   ],
   "source": [
    "df_order_prod = spark.read.csv(instacart_dir_path + 'order_products__train.csv', header=True, sep=',', inferSchema=True)\n",
    "print('order_products__train.csv')\n",
    "df_order_prod.show(5)\n",
    "\n",
    "df_orders = spark.read.csv(instacart_dir_path + 'orders.csv', header=True, sep=',', inferSchema=True)\n",
    "print('orders.csv')\n",
    "df_orders.show(5)\n",
    "\n",
    "df_products = spark.read.csv(instacart_dir_path + 'products.csv', header=True, sep=',', inferSchema=True)\n",
    "print('products.csv')\n",
    "df_products.show(5)\n",
    "\n",
    "\n",
    "\"\"\"\n",
    "List of products ever purchased by each user\n",
    "\"\"\"\n",
    "# USING SQL\n",
    "df_order_prod.createOrReplaceTempView(\"order_prod\") # creates table 'order_prod'\n",
    "df_orders.createOrReplaceTempView(\"orders\") # creates table 'orders'\n",
    "df_products.createOrReplaceTempView(\"products\") # creates table 'products'\n",
    "spark.sql('SELECT o.user_id, COLLECT_LIST(p.product_name) AS products' \n",
    "               ' FROM orders o '\n",
    "               ' INNER JOIN order_prod op ON op.order_id = o.order_id'\n",
    "               ' INNER JOIN products p    ON op.product_id = p.product_id'\n",
    "               ' GROUP BY user_id ORDER BY o.user_id').show(5, truncate=80)\n",
    "\n",
    "\n",
    "# USING DATAFRAME OPERATIONS\n",
    "# df_orders.join(df_order_prod, df_order_prod.order_id == df_orders.order_id, 'inner')\\\n",
    "# .join(df_products, df_products.product_id == df_order_prod.product_id, 'inner')\\\n",
    "# .groupBy(df_orders.user_id).agg(f.collect_list(df_products.product_name).alias('products'))\\\n",
    "# .orderBy(df_orders.user_id).show(5, truncate=80)"
   ]
  },
  {
   "cell_type": "markdown",
   "metadata": {
    "colab_type": "text",
    "id": "7xQWvHj8OtAX"
   },
   "source": [
    "### 3.1 Business Insights (25 points) \n",
    "\n",
    "Now, you are the data scientist. Considering only the orders from ``order_products__train.csv``, use of Spark SQL module, performing with SQL or data frame, to answer the following questions:\n",
    "\n",
    "1. What are the top 10 products which have the highest probability of being reordered (consider only products purchased at least 40 times)? \n",
    "2. What are the busiest shopping hours for each department?\n",
    "    - Hint: plot a figure containing a time series for each department \n",
    "4. What is the size of the orders (basket size)? \n",
    "    - Hint: plot the basket size distribution "
   ]
  },
  {
   "cell_type": "code",
   "execution_count": 0,
   "metadata": {
    "colab": {},
    "colab_type": "code",
    "id": "Qmq4ctRROtAa",
    "outputId": "19f9ec52-21ce-4805-a133-1c19afe2457f"
   },
   "outputs": [
    {
     "name": "stdout",
     "output_type": "stream",
     "text": [
      "+----------+-------------------------------------+-------------+\n",
      "|product_id|                         product_name| prob_reorder|\n",
      "+----------+-------------------------------------+-------------+\n",
      "|      1729|                 2% Lactose Free Milk|0.93478260870|\n",
      "|     20940|                 Organic Low Fat Milk|0.91304347826|\n",
      "|     12193|            100% Florida Orange Juice|0.89830508475|\n",
      "|     31764|Original Sparkling Seltzer Water Cans|0.88888888889|\n",
      "|     21038|              Organic Spelt Tortillas|0.88888888889|\n",
      "|     24852|                               Banana|0.88417173983|\n",
      "|       117|                   Petit Suisse Fruit|0.88333333333|\n",
      "|     39180|               Organic Lowfat 1% Milk|0.88198757764|\n",
      "|     12384|  Organic Lactose Free 1% Lowfat Milk|0.88104089219|\n",
      "|     24024|                       1% Lowfat Milk|0.87852494577|\n",
      "+----------+-------------------------------------+-------------+\n",
      "only showing top 10 rows\n",
      "\n"
     ]
    }
   ],
   "source": [
    "df_order_prod.createOrReplaceTempView(\"order_prod\") # creates table 'order_prod'\n",
    "df_products.createOrReplaceTempView(\"products\") # creates table 'order_prod'\n",
    "\n",
    "#1. What are the top 10 products which have the highest probability of being reordered (consider only products purchased at least 40 times)?\n",
    "spark.sql(' SELECT mostReorderdProducts.product_id, p.product_name, (mostReorderdProducts.reorderCount / mostReorderdProducts.orderCount) as prob_reorder '\n",
    "          ' FROM '\n",
    "              '( '\n",
    "                  'SELECT o.product_id, CAST(SUM(o.reordered) as DECIMAL) as reorderCount, CAST(COUNT(1) as DECIMAL) as orderCount' \n",
    "                   ' FROM order_prod o'\n",
    "                   ' INNER JOIN '\n",
    "                      '('\n",
    "                          ' SELECT product_id, COUNT(product_id) as prd_count '\n",
    "                          ' FROM order_prod'\n",
    "                          ' GROUP BY product_id'\n",
    "                       ') as product_count '\n",
    "                          ' ON product_count.prd_count >= 40 '\n",
    "                            ' AND product_count.product_id = o.product_id'\n",
    "                   ' GROUP BY o.product_id'\n",
    "              ') as mostReorderdProducts '\n",
    "          ' INNER JOIN products p ON mostReorderdProducts.product_id = p.product_id'\n",
    "          ' ORDER BY prob_reorder DESC').show(10, truncate=80)"
   ]
  },
  {
   "cell_type": "code",
   "execution_count": 0,
   "metadata": {
    "colab": {
     "base_uri": "https://localhost:8080/",
     "height": 237
    },
    "colab_type": "code",
    "executionInfo": {
     "elapsed": 2348,
     "status": "ok",
     "timestamp": 1575235278111,
     "user": {
      "displayName": "Pierre-Étienne Le Page",
      "photoUrl": "",
      "userId": "07150735392471165903"
     },
     "user_tz": 300
    },
    "id": "RiYUL1IvOtAh",
    "outputId": "5c2c1133-81be-45db-f469-70900899e920"
   },
   "outputs": [
    {
     "name": "stdout",
     "output_type": "stream",
     "text": [
      "products.csv\n",
      "+-------------+----------+\n",
      "|department_id|department|\n",
      "+-------------+----------+\n",
      "|            1|    frozen|\n",
      "|            2|     other|\n",
      "|            3|    bakery|\n",
      "|            4|   produce|\n",
      "|            5|   alcohol|\n",
      "+-------------+----------+\n",
      "only showing top 5 rows\n",
      "\n"
     ]
    }
   ],
   "source": [
    "df_departments = spark.read.csv(instacart_dir_path + 'departments.csv', header=True, sep=',', inferSchema=True)\n",
    "print('products.csv')\n",
    "df_departments.show(5)"
   ]
  },
  {
   "cell_type": "code",
   "execution_count": 0,
   "metadata": {
    "colab": {},
    "colab_type": "code",
    "id": "vpSejxH4OtAp",
    "outputId": "0949f4ac-8003-4f92-a7fc-bcd3075fa5fd"
   },
   "outputs": [
    {
     "name": "stdout",
     "output_type": "stream",
     "text": [
      "Regardons d'abord la distribution des commandes au fil du temps.\n"
     ]
    }
   ],
   "source": [
    "df_orders.createOrReplaceTempView(\"orders\") # creates table 'orders'\n",
    "df_products.createOrReplaceTempView(\"products\")\n",
    "df_departments.createOrReplaceTempView(\"departments\")\n",
    "\n",
    "#2. What are the busiest shopping hours for each department?\n",
    "\n",
    "print(\"Regardons d'abord la distribution des commandes au fil du temps.\")\n",
    "\n",
    "orders_df = spark.sql(\n",
    "        'SELECT CAST(p.department_id as INT) as department_nb, d.department, o.order_hour_of_day, COUNT(o.order_hour_of_day) as order_count' \n",
    "        ' FROM order_prod op '\n",
    "        ' INNER JOIN orders o ON op.order_id = o.order_id '\n",
    "        ' INNER JOIN products p ON p.product_id = op.product_id'\n",
    "        ' INNER JOIN departments d ON d.department_id = p.department_id'\n",
    "        ' GROUP BY department_nb, d.department, o.order_hour_of_day'\n",
    "        ' ORDER BY department, o.order_hour_of_day')\n",
    "\n",
    "# Creates a list of row values for ordering, iteration and display in a plot.\n",
    "order_values = orders_df.rdd.map(lambda row : ((row[0], row[1]), [(row[2], row[3])])).reduceByKey(lambda x, y : x + y).collect()"
   ]
  },
  {
   "cell_type": "code",
   "execution_count": 0,
   "metadata": {
    "colab": {},
    "colab_type": "code",
    "id": "noBrr56jOtAw",
    "outputId": "49c871a7-0c1e-4296-896c-a8e8e2e45319"
   },
   "outputs": [
    {
     "data": {
      "image/png": "[encoded data removed]",
      "text/plain": [
       "<Figure size 1080x1080 with 1 Axes>"
      ]
     },
     "metadata": {
      "needs_background": "light",
      "tags": []
     },
     "output_type": "display_data"
    }
   ],
   "source": [
    "import matplotlib.pyplot as plt\n",
    "\n",
    "# Order the rows using the department_ids for ordered display in the legend.\n",
    "order_values.sort(key=lambda x: x[0][0])\n",
    "\n",
    "plt.figure(figsize=(15,15))\n",
    "plt.title(\"Variation du nombre de commandes dans chaque département au fil du temps\")\n",
    "plt.xlabel(\"Heure\")\n",
    "plt.ylabel(\"Nombre de commandes\")\n",
    "\n",
    "lines = []\n",
    "line_labels = []\n",
    "\n",
    "# Iterates through each row to generate the plot.\n",
    "for department_orders in order_values:\n",
    "    \n",
    "    list_time = []\n",
    "    list_order_count = []\n",
    "\n",
    "    order_count_in_time = department_orders[1]\n",
    "    for order_count_per_hour in order_count_in_time:\n",
    "        hour = order_count_per_hour[0]\n",
    "        list_time.append(hour)  \n",
    "        list_order_count.append(order_count_per_hour[1])\n",
    "    line, = plt.plot(list_time,list_order_count, '-o', label=str(department_orders[0][0]) + \" : \" + department_orders[0][1])\n",
    "    lines.append(line)\n",
    "    line_labels.append(str(department_orders[0][0]) + \" : \" + department_orders[0][1])\n",
    "\n",
    "plt.legend(lines, line_labels, bbox_to_anchor=(1.05, 1), loc='upper left')\n",
    "\n",
    "plt.show()"
   ]
  },
  {
   "cell_type": "code",
   "execution_count": 0,
   "metadata": {
    "colab": {},
    "colab_type": "code",
    "id": "8JNN9xl5OtA6",
    "outputId": "f57985f3-e92d-49e6-86f7-2112450f159d"
   },
   "outputs": [
    {
     "name": "stdout",
     "output_type": "stream",
     "text": [
      "+-------------+---------------+-------------------+\n",
      "|department_nb|department_name|busiest_hour_of_day|\n",
      "+-------------+---------------+-------------------+\n",
      "|            1|         frozen|                 14|\n",
      "|            2|          other|                 14|\n",
      "|            3|         bakery|                 14|\n",
      "|            4|        produce|                 14|\n",
      "|            5|        alcohol|                 15|\n",
      "|            6|  international|                 13|\n",
      "|            7|      beverages|                 10|\n",
      "|            8|           pets|                 11|\n",
      "|            9|dry goods pasta|                 14|\n",
      "|           10|           bulk|                 14|\n",
      "|           11|  personal care|                 14|\n",
      "|           12|   meat seafood|                 14|\n",
      "|           13|         pantry|                 14|\n",
      "|           14|      breakfast|                 14|\n",
      "|           15|   canned goods|                 13|\n",
      "|           15|   canned goods|                 11|\n",
      "|           16|     dairy eggs|                 14|\n",
      "|           17|      household|                 10|\n",
      "|           18|         babies|                  9|\n",
      "|           19|         snacks|                 14|\n",
      "+-------------+---------------+-------------------+\n",
      "only showing top 20 rows\n",
      "\n"
     ]
    }
   ],
   "source": [
    "spark.sql(\n",
    "    'WITH departmentHours as '\n",
    "    '('\n",
    "        'SELECT p.department_id, d.department, o.order_hour_of_day, COUNT(o.order_hour_of_day) as hour_instance_count' \n",
    "        ' FROM order_prod op '\n",
    "        ' INNER JOIN orders o ON op.order_id = o.order_id '\n",
    "        ' INNER JOIN products p ON p.product_id = op.product_id'\n",
    "        ' INNER JOIN departments d ON d.department_id = p.department_id'\n",
    "        ' GROUP BY p.department_id, d.department, o.order_hour_of_day'\n",
    "    ')'\n",
    "    ' SELECT '\n",
    "        ' CAST(maxCount.department_id as INT) as department_nb, '\n",
    "        ' maxCount.department as department_name,'\n",
    "        ' dh.order_hour_of_day as busiest_hour_of_day '\n",
    "    ' FROM '\n",
    "    '( '\n",
    "        'SELECT department_id, department, MAX(hour_instance_count) as max_order_count '\n",
    "        ' FROM departmentHours GROUP BY department_id, department'\n",
    "    ') as maxCount '\n",
    "    ' INNER JOIN departmentHours dh'\n",
    "        ' ON dh.department_id = maxCount.department_id '\n",
    "            ' AND dh.hour_instance_count = maxCount.max_order_count'\n",
    "    ' ORDER BY department_nb').show()"
   ]
  },
  {
   "cell_type": "code",
   "execution_count": 0,
   "metadata": {
    "colab": {},
    "colab_type": "code",
    "id": "tSEVeK5tOtBC",
    "outputId": "e9b42c7f-cdc4-4c89-8e08-9d3ff13664a5"
   },
   "outputs": [
    {
     "data": {
      "image/png": "[encoded data removed]",
      "text/plain": [
       "<Figure size 1080x1080 with 1 Axes>"
      ]
     },
     "metadata": {
      "needs_background": "light",
      "tags": []
     },
     "output_type": "display_data"
    },
    {
     "name": "stdout",
     "output_type": "stream",
     "text": [
      "mean : 10.552759338155157\n",
      "median : 9.0\n",
      "+--------+-----------+\n",
      "|order_id|basket_size|\n",
      "+--------+-----------+\n",
      "|    1342|          8|\n",
      "|    1591|         31|\n",
      "|    4519|          1|\n",
      "|    4935|          1|\n",
      "|    6357|          9|\n",
      "|   10362|         36|\n",
      "|   19204|         14|\n",
      "|   29601|         17|\n",
      "|   31035|          4|\n",
      "|   40011|          6|\n",
      "|   46266|         13|\n",
      "|   51607|          6|\n",
      "|   58797|          8|\n",
      "|   61793|          6|\n",
      "|   67089|         17|\n",
      "|   70863|          5|\n",
      "|   88674|          5|\n",
      "|   91937|          5|\n",
      "|   92317|         14|\n",
      "|   99621|          8|\n",
      "+--------+-----------+\n",
      "only showing top 20 rows\n",
      "\n"
     ]
    }
   ],
   "source": [
    "import numpy as np\n",
    "import matplotlib.pyplot as plt\n",
    "\n",
    "df_order_prod.createOrReplaceTempView(\"order_prod\") # creates table 'order_prod'\n",
    "\n",
    "#3. What is the size of the orders (basket size)?\n",
    "df_order_size = spark.sql('SELECT COUNT(1) as basket_size FROM order_prod GROUP BY order_id')\n",
    "\n",
    "order_sizes = df_order_size.rdd.collect()\n",
    "\n",
    "plt.figure(figsize=(15,15))\n",
    "plt.title(\"Distribution de la taille des commandes\")\n",
    "plt.xlabel(\"Nombre d'items\")\n",
    "plt.ylabel(\"Nombre de commandes\")\n",
    "\n",
    "lines = []\n",
    "line_labels = []\n",
    "\n",
    "arr_order_size = np.array(order_sizes)\n",
    "\n",
    "plt.hist(arr_order_size, edgecolor=\"black\", bins=30)\n",
    "\n",
    "plt.show()\n",
    "\n",
    "print(\"mean : \" + str(np.mean(arr_order_size)))\n",
    "print(\"median : \" + str(np.median(arr_order_size)))\n",
    "\n",
    "df_basket_size = spark.sql('SELECT order_id, COUNT(1) as basket_size FROM order_prod GROUP BY order_id')\n",
    "\n",
    "df_basket_size.show()"
   ]
  },
  {
   "cell_type": "markdown",
   "metadata": {
    "colab_type": "text",
    "id": "gnTf3f_zOtBJ"
   },
   "source": [
    "### 3.2 Run MBA for the training set (15 points)\n",
    "\n",
    "Using the orders from the ``order_products__train.csv``, create a data frame where each row contain just one column, the transaction, with the list of purchased products. For this task, you do not have to query for the product names to run the MBA algorithm. You can assume that the product name is its id. This can accelerate the algorithm since the product names can be quite big.\n",
    "\n",
    "You must report the time spent to perform this task."
   ]
  },
  {
   "cell_type": "code",
   "execution_count": 0,
   "metadata": {
    "colab": {
     "base_uri": "https://localhost:8080/",
     "height": 256
    },
    "colab_type": "code",
    "id": "w7KldkbkOtBT",
    "outputId": "b9301115-83df-4b5e-8b6b-fee4ab000b83"
   },
   "outputs": [
    {
     "name": "stdout",
     "output_type": "stream",
     "text": [
      "+---------------+--------------------------------------------------------------------------------+\n",
      "|ordered_product|                                                               association_rules|\n",
      "+---------------+--------------------------------------------------------------------------------+\n",
      "| [22848, 43961]|[[21574, 1.0], [20723, 1.0], [2750, 1.0], [49610, 1.0], [6300, 1.0], [5144, 1...|\n",
      "| [33000, 44349]|[[11422, 0.5], [5876, 0.5], [40604, 0.5], [37067, 0.5], [30995, 0.5], [20434,...|\n",
      "| [27344, 44156]|[[39032, 0.5], [5077, 0.5], [12899, 0.5], [26665, 0.5], [28157, 0.5], [40338,...|\n",
      "|    [23165, 45]|[[19057, 0.1111111111111111], [2344, 0.1111111111111111], [27966, 0.222222222...|\n",
      "| [11136, 33000]|[[36070, 0.3333333333333333], [46709, 0.3333333333333333], [42699, 0.33333333...|\n",
      "+---------------+--------------------------------------------------------------------------------+\n",
      "only showing top 5 rows\n",
      "\n",
      "CPU times: user 1.18 s, sys: 273 ms, total: 1.45 s\n",
      "Wall time: 4h 13min\n"
     ]
    }
   ],
   "source": [
    "%%time\n",
    "\n",
    "df_order_prod.createOrReplaceTempView(\"order_prod\") # creates table 'order_prod'\n",
    "\n",
    "############# Comments for each row after the query : ###################\n",
    "#     ' ORDER BY op.order_id').rdd.map(lambda r... - We generate a string composed of the product_ids split by a \";\" to fit the map_to_pattenrs algorithm\n",
    "# .toDF(['order_id', 'transaction']).rdd.flatMa... - We generate the baskets with a single a pair or a triple of product_ids from the list of product_ids for each order as patterns and we count their occurences in all the data. \n",
    "# .flatMap(map_to_subpatterns).reduceByKey(lamb... - We create association subpattenrs from the generated patterns\n",
    "# .map(lambda x : (x[0][0], [(x[0][1], x[1])]))... - We put the subpatterns associations in a list to merge on a single row during the reduceByKey \n",
    "# .flatMap(map_to_assoc_rules).reduceByKey(lamb... - We calculate execute the MBA algorithm\n",
    "# .map(format_tuples).toDF(['ordered_product', ... - We create the required dataframe and display the products and their association rules\n",
    "spark.sql(\n",
    "    'SELECT order_id, COLLECT_LIST(CAST(op.product_id as STRING)) as transaction ' \n",
    "    ' FROM order_prod op '  \n",
    "    ' GROUP BY op.order_id '\n",
    "    ' ORDER BY op.order_id').rdd.map(lambda row : (row[0], \";\".join([str(prod_id) for prod_id in row[1]])))\\\n",
    ".toDF(['order_id', 'transaction']).rdd.flatMap(map_to_patterns).reduceByKey(lambda x , y: x + y)\\\n",
    ".flatMap(map_to_subpatterns).reduceByKey(lambda x,y: x + y)\\\n",
    ".map(lambda x : (x[0][0], [(x[0][1], x[1])])).reduceByKey(lambda x , y: x + y)\\\n",
    ".flatMap(map_to_assoc_rules).reduceByKey(lambda x , y: x + y)\\\n",
    ".map(format_tuples).toDF(['ordered_product', 'association_rules']).show(5, truncate=80)\n",
    "    "
   ]
  },
  {
   "cell_type": "markdown",
   "metadata": {
    "colab": {},
    "colab_type": "code",
    "id": "1D5hEuJpnSCb"
   },
   "source": [
    "**The code segments below where used to build the one above.This breakdown helps understand what tasks are the most computationnaly expensive in our treatment.**"
   ]
  },
  {
   "cell_type": "code",
   "execution_count": 0,
   "metadata": {
    "colab": {
     "base_uri": "https://localhost:8080/",
     "height": 256
    },
    "colab_type": "code",
    "id": "9hNVqNjQOtBh",
    "outputId": "90d1fa33-da39-41c9-9b9a-b7036513490d"
   },
   "outputs": [
    {
     "name": "stdout",
     "output_type": "stream",
     "text": [
      "+---------------------------+----------+\n",
      "|                    pattern|occurences|\n",
      "+---------------------------+----------+\n",
      "|         ('24489', '40706')|        86|\n",
      "| ('13176', '18441', '3880')|         1|\n",
      "|('15455', '15995', '20520')|         1|\n",
      "|  ('15455', '18117', '329')|         1|\n",
      "|('15455', '24964', '27966')|         1|\n",
      "+---------------------------+----------+\n",
      "only showing top 5 rows\n",
      "\n",
      "CPU times: user 82.2 ms, sys: 21.2 ms, total: 103 ms\n",
      "Wall time: 11min 3s\n"
     ]
    }
   ],
   "source": [
    "%%time\n",
    "\n",
    "product_order_count = df_products_per_order.rdd.flatMap(map_to_patterns).reduceByKey(lambda x , y: x + y)\n",
    "product_order_count.map(format_tuples).toDF(['pattern', 'occurences']).show(5, truncate=80)"
   ]
  },
  {
   "cell_type": "code",
   "execution_count": 0,
   "metadata": {
    "colab": {
     "base_uri": "https://localhost:8080/",
     "height": 256
    },
    "colab_type": "code",
    "id": "9Jj_zFaaOtBo",
    "outputId": "f94b42d4-1270-4ba1-f8ad-a7016a0950b7"
   },
   "outputs": [
    {
     "name": "stdout",
     "output_type": "stream",
     "text": [
      "+-----------------------------+-----+\n",
      "|                 sub_pattenrs|rules|\n",
      "+-----------------------------+-----+\n",
      "|  (('24382', '4818'), '7123')|    1|\n",
      "|(('16349', '26648'), '18027')|    1|\n",
      "|(('13291', '48622'), '17795')|    1|\n",
      "|(('33222', '35970'), '45541')|    1|\n",
      "|(('12114', '27156'), '22993')|    1|\n",
      "+-----------------------------+-----+\n",
      "only showing top 5 rows\n",
      "\n",
      "CPU times: user 300 ms, sys: 57 ms, total: 357 ms\n",
      "Wall time: 1h 1min\n"
     ]
    }
   ],
   "source": [
    "%%time\n",
    "\n",
    "rdd_subpattern_rules = product_order_count.flatMap(map_to_subpatterns).reduceByKey(lambda x,y: x + y)\n",
    "rdd_subpattern_rules.map(format_tuples).toDF(['sub_pattenrs', 'rules']).show(5, truncate=80)"
   ]
  },
  {
   "cell_type": "code",
   "execution_count": 0,
   "metadata": {
    "colab": {
     "base_uri": "https://localhost:8080/",
     "height": 256
    },
    "colab_type": "code",
    "id": "1yS9wIbdOtBt",
    "outputId": "2c861bd7-ac28-4080-8be8-e3bb7928635a"
   },
   "outputs": [
    {
     "name": "stdout",
     "output_type": "stream",
     "text": [
      "+------------------+--------------------------------------------------------------------------------+\n",
      "|      sub_patterrs|                                                                  combined_rules|\n",
      "+------------------+--------------------------------------------------------------------------------+\n",
      "|        ('27549',)|[('26436', 1), ('649', 1), ('46354', 1), ('38557', 1), ('23909', 1), ('31486'...|\n",
      "|('16870', '31159')|[('11826', 1), ('4939', 1), ('47831', 1), ('34766', 1), ('39276', 1), ('5375'...|\n",
      "| ('38113', '4317')|[('37654', 1), ('8193', 1), ('47626', 1), ('49668', 1), ('17819', 1), ('31610...|\n",
      "| ('21927', '4472')|[('35072', 1), ('28204', 1), ('33120', 1), ('5825', 1), ('40268', 1), ('33129...|\n",
      "|('21376', '28785')|[('33468', 1), ('20383', 1), ('41259', 1), ('28985', 1), ('4605', 1), ('11782...|\n",
      "+------------------+--------------------------------------------------------------------------------+\n",
      "only showing top 5 rows\n",
      "\n",
      "CPU times: user 595 ms, sys: 124 ms, total: 718 ms\n",
      "Wall time: 2h 7min 54s\n"
     ]
    }
   ],
   "source": [
    "%%time\n",
    "\n",
    "rdd_subpattern_combined_rules = rdd_subpattern_rules.map(lambda x : (x[0][0], [(x[0][1], x[1])])).reduceByKey(lambda x , y: x + y)\n",
    "rdd_subpattern_combined_rules.map(format_tuples).toDF(['sub_patterrs', 'combined_rules']).show(5, truncate=80)"
   ]
  },
  {
   "cell_type": "code",
   "execution_count": 0,
   "metadata": {
    "colab": {},
    "colab_type": "code",
    "id": "S_O8CPlPOtB2",
    "outputId": "8bba362d-c2cb-4b77-dd41-21d4c55cefe8"
   },
   "outputs": [
    {
     "name": "stdout",
     "output_type": "stream",
     "text": [
      "+------------------+--------------------------------------------------------------------------------+\n",
      "|   ordered_product|                                                               association_rules|\n",
      "+------------------+--------------------------------------------------------------------------------+\n",
      "|('17008', '27676')|[('11065', 0.5), ('31066', 0.5), ('11265', 0.5), ('26300', 0.5), ('35042', 0....|\n",
      "|  ('7277', '7781')|[('3957', 1.0), ('25533', 1.0), ('29565', 1.0), ('19240', 1.0), ('1935', 1.0)...|\n",
      "|('13870', '37654')|[('17122', 0.5), ('43295', 0.5), ('25436', 0.5), ('35591', 0.5), ('3298', 0.5...|\n",
      "|('15392', '30442')|[('14867', 1.0), ('33043', 1.0), ('43789', 1.0), ('21526', 1.0), ('4605', 1.0...|\n",
      "|('34335', '44949')|[('21724', 1.0), ('24231', 1.0), ('7676', 1.0), ('15462', 1.0), ('24852', 1.0...|\n",
      "+------------------+--------------------------------------------------------------------------------+\n",
      "only showing top 5 rows\n",
      "\n",
      "Wall time: 1h 42min 33s\n"
     ]
    }
   ],
   "source": [
    "%%time\n",
    "\n",
    "rdd_association_rules = rdd_subpattern_combined_rules.flatMap(map_to_assoc_rules).reduceByKey(lambda x , y: x + y)\n",
    "rdd_association_rules.map(format_tuples).toDF(['ordered_product', 'association_rules']).show(5, truncate=80)"
   ]
  },
  {
   "cell_type": "markdown",
   "metadata": {
    "colab_type": "text",
    "id": "bEocCzIyOtCA"
   },
   "source": [
    "## 3.3 Run MBA for the whole dataset (15 points)\n",
    "\n",
    "As you probably noticed, even for a not so large data set (the training file has only 131209 orders), the MBA algorithm is computationally expensive. For that reason, this time, we will repeat the process, but now using the Google Cloud Platform (GCP) to create a large computer cluster. All the instructions for creating a computing cluster with spark and how to submit a job will be explained in both sessions of the laboratory. In any case, you should read the instructions given in the ``Instruction_GCP.pdf``.\n",
    "\n",
    "This time, we will work with the ``order_products__prior.csv`` file, which contains more than 3M orders.\n",
    "\n",
    "**EXPECTED OUTPUT**\n",
    "\n",
    "After you ran the MBA for the larger collection of orders, randomly select 5 products purchased in ``order_products__prior`` and print the association rules associated to those products when the product is alone in the basket. The output should be as described below:\n",
    "\n",
    "**This time,  the products' name should be printed, not its ID. You can still perform the MBA using the IDs, but this last print must show the names.  \n",
    "The output should be formatted in a table, each row containing the information of the association rules for one of the 10 products.**\n",
    "       \n",
    "Report the execution time."
   ]
  },
  {
   "cell_type": "code",
   "execution_count": 0,
   "metadata": {
    "colab": {
     "base_uri": "https://localhost:8080/",
     "height": 54
    },
    "colab_type": "code",
    "executionInfo": {
     "elapsed": 3505,
     "status": "ok",
     "timestamp": 1575327618377,
     "user": {
      "displayName": "Pierre-Étienne Le Page",
      "photoUrl": "",
      "userId": "07150735392471165903"
     },
     "user_tz": 300
    },
    "id": "A_iV9sIvOtCJ",
    "outputId": "aac60659-c26c-4e93-dee4-b7a0da34b993"
   },
   "outputs": [
    {
     "name": "stdout",
     "output_type": "stream",
     "text": [
      "CPU times: user 4 ms, sys: 0 ns, total: 4 ms\n",
      "Wall time: 11.1 s\n"
     ]
    }
   ],
   "source": [
    "%%time\n",
    "\n",
    "# Creates a dataframe to query the data in order_products__prior.csv\n",
    "df_order_prod_prior = spark.read.csv(instacart_dir_path + 'order_products__prior.csv', header=True, sep=',', inferSchema=True)\n",
    "# Creates a dataframe to query the data in products.csv\n",
    "df_products = spark.read.csv(instacart_dir_path + 'products.csv', header=True, sep=',', inferSchema=True)\n",
    "\n",
    "# Creates temps views for these dataframes for query using sql.\n",
    "df_order_prod_prior.createOrReplaceTempView(\"order_prod_prior\")\n",
    "df_products.createOrReplaceTempView(\"products\")\n",
    "\n",
    "\"\"\"\n",
    "TODO: create a query to create and sctruct the transactions from the order_products__prior.csv file\n",
    "\"\"\"\n",
    "# Queries the list of product_ids per order using sql.\n",
    "df_products_per_order = spark.sql(\n",
    "    ' SELECT opp.order_id, COLLECT_LIST(opp.product_id) as transaction ' \n",
    "    ' FROM order_prod_prior opp ' \n",
    "    ' GROUP BY opp.order_id '\n",
    "    ' ORDER BY opp.order_id ')"
   ]
  },
  {
   "cell_type": "code",
   "execution_count": 0,
   "metadata": {
    "colab": {
     "base_uri": "https://localhost:8080/",
     "height": 349
    },
    "colab_type": "code",
    "executionInfo": {
     "elapsed": 718299,
     "status": "ok",
     "timestamp": 1575328734331,
     "user": {
      "displayName": "Pierre-Étienne Le Page",
      "photoUrl": "",
      "userId": "07150735392471165903"
     },
     "user_tz": 300
    },
    "id": "RLVlq93xjTTu",
    "outputId": "04865fec-a49d-47fe-8610-e359a51eb696"
   },
   "outputs": [
    {
     "name": "stdout",
     "output_type": "stream",
     "text": [
      "+--------------------------------------------------------+------------------------------------------------------------------------------------------------------------------------------------------------------------------------------------------------------------------------------------------------------------------------------------------------------------------------------------------------------------------------------------------------------------------------------------------------------------------------------------------------------------------------------------------------------------------------------------------------------------------------------------------------------------------------------------------------------------------------------------------------------------------------------------------------------------------------------------------------------------------------------------------------------------------------------------------------------------------------------------------------------------------------------------------------------------------------------------------------------------------------------------------------------------------------------------------------------------------------------------------------------------------------------------------------------------------------------------------------------------------------------------------------------------------------------------------------------------------------------------------------------------------------------------------------------------------------------------------------------------------------------------------------------------------------------------------------------------------------------------------------------------------------------------------------------------------------------------------------------------------------------------------------------------------------------------------------------------------------------------------------------------------------------------------------------------------------------------------------------------------------------------------------------------------------------------------------------------------------------------------------------------------------------------------------------------------------------------------------------------------------------------------------------------------------------------------------------------------------------------------------------------------------------------------------------------------------------------------------------------------------------------------------------------------------------------------------------------------------------------------------------------------------------------------------------------------------------------------------------------------------------------------------------------------------------------------------------------------------------------------------------------------------------------------------------------------------------------------------------------------------+\n",
      "|                                                 product|                                                                                                                                                                                                                                                                                                                                                                                                                                                                                                                                                                                                                                                                                                                                                                                                                                                                                                                                                                                                                                                                                                                                                                                                                                                                                                                                                                                                                                                                                                                                                                                                                                                                                                                                                                                                                                                                                                                                                                                                                                                                                                                                                                                                                                                                                                                                                                                                                                                                                                                                                                                                                                                                                                                                                                                                                                                                                                                                                                                                                                                                                                       association_rules|\n",
      "+--------------------------------------------------------+------------------------------------------------------------------------------------------------------------------------------------------------------------------------------------------------------------------------------------------------------------------------------------------------------------------------------------------------------------------------------------------------------------------------------------------------------------------------------------------------------------------------------------------------------------------------------------------------------------------------------------------------------------------------------------------------------------------------------------------------------------------------------------------------------------------------------------------------------------------------------------------------------------------------------------------------------------------------------------------------------------------------------------------------------------------------------------------------------------------------------------------------------------------------------------------------------------------------------------------------------------------------------------------------------------------------------------------------------------------------------------------------------------------------------------------------------------------------------------------------------------------------------------------------------------------------------------------------------------------------------------------------------------------------------------------------------------------------------------------------------------------------------------------------------------------------------------------------------------------------------------------------------------------------------------------------------------------------------------------------------------------------------------------------------------------------------------------------------------------------------------------------------------------------------------------------------------------------------------------------------------------------------------------------------------------------------------------------------------------------------------------------------------------------------------------------------------------------------------------------------------------------------------------------------------------------------------------------------------------------------------------------------------------------------------------------------------------------------------------------------------------------------------------------------------------------------------------------------------------------------------------------------------------------------------------------------------------------------------------------------------------------------------------------------------------------------------------------------------------------+\n",
      "|                   Cheese Fantastico Dressing & Marinade|                                                                                                                                                                                                                                                                                                                                                                                                                                                                                                                                                                                                                                                                                                                                                                                                                                                                                                                                                                                                                                                                                                                                                                                                                                                                                                                                                                                           [[Sauvignon Blanc, 0.25], [Spinach, Cut, 0.25], [Sweet Baguette, 0.25], [Freshly Shredded Cheese, Parmesan & Romano, 0.25], [Cherry Garcia Ice Cream, 0.25], [Ultra Soft Facial Tissues, 0.25], [Organic Yams, 0.25], [Feta Crumbles, 0.25], [Reduced Fat Crescent Rolls, 0.25], [Fresh Dill, 0.25], [Granulated White Cane Sugar, 0.25], [\"Organic Whole Wheat Pie 9\"\" Shells 2 ct\", 0.25], [Organic Large Brown Grade AA Cage Free Eggs, 0.25], [Gourmet Cut Caesar Croutons, 0.25], [Whole Milk Ricotta Cheese, 0.25], [Shredded Iceberg Lettuce, 0.25], [XL Emerald White Seedless Grapes, 0.25], [Shredded Mozzarella Cheese, 0.25], [Organic Heavy Whipping Cream, 0.25], [Whole Black Peppercorns, 0.25], [Organic Reduced Fat 2% Milk, 0.25], [Freshly Grated Cheese, Parmesan, 0.25], [Cheddar Cheese Sticks, 0.25], [Sharp Cheddar Thick Slices Cheese, 0.25], [Babybel Gouda Semisoft Cheese, 0.25], [Mint Chip Ice Cream, 0.25], [Organic Garlic, 0.25], [Yellow Onions, 0.5], [Organic Large Extra Fancy Fuji Apple, 0.25], [Organic Zucchini, 0.25], [Restaurant Style Organic Chia & Quinoa Tortilla Chips, 0.25], [Garlic Lemon Caesar Dressing, 0.25], [Philadelphia Original Cream Cheese, 0.25], [Organic Pre-washed Hearts Of Romaine Lettuce, 0.25], [Artichoke Heart, 0.25], [Shredded Pecorino Romano Cheese, 0.25], [Natural String Cheese, 0.25], [Organic Baby Lettuces, 0.25], [Real Mayonnaise, 0.25], [Organic Thyme, 0.25], [Deli-Sliced Golden Greek Pepperoncini, 0.25], [Raspberry Tea, 0.25], [All Natural Virgin Lemonade, 0.25], [Grade A Extra Large Eggs, 0.25], [Eggplant Large, 0.25], [Unsalted Sweet Butter, 0.25], [Pepper Jack Cheese, 0.25], [Cage Free Large White Eggs, 0.25]]|\n",
      "|                                       Strawberry ZFruit|[[Craisins Dried Cranberries, 0.01], [Platinum Erasing Dish Foam Fresh Rapids Scent, 0.01], [Organic Sticks Low Moisture Part Skim Mozzarella String Cheese, 0.11], [Cola, 0.03], [Organic Creamy Coconut, 0.01], [Original Restaurant Style Tortilla Chips, 0.03], [Organic Mini Sandwich Crackers Cheddar Cheese, 0.01], [Fruit & Veggie Strip, Wildberry Apple, 0.01], [Organic Sweetened Almond Milk, 0.01], [ZBar Organic Chocolate Brownie Energy Snack, 0.04], [No Sugar Added The Original Fudge Pops, 0.01], [YoBaby Peach Pear Yogurt, 0.01], [Pomegranate, 0.01], [Soup, Traditional, with Tofu, 0.01], [Garlic, 0.03], [Natural Sharp Cheddar Sliced Cheese, 0.03], [Shelled Soybeans Edamame, 0.01], [Organic Cello Lettuce, 0.01], [Apple & Cherry Fruit Bar, 0.01], [Honey Maid Fresh Stack Honey Grahams, 0.01], [Double Chocolate Brownie Mix, 0.01], [Regular Cardboard Applicator Unscented Tampons, 0.01], [Root Beer Soda, 0.01], [Italian Sparkling Mineral Water, 0.01], [Harvest Peach Yogurt, 0.01], [Chlorine Free Versatile Stain Remover, 0.01], [Mini Croissants, 0.01], [White Corn, 0.02], [Organic Green Leaf Lettuce, 0.01], [Organic Cream on Top Peach Yogurt, 0.01], [Light Semisoft Cheese, 0.01], [Blueberry Cashew Bar, 0.02], [Whole Grain Organic Waffles, Totally Original, 0.01], [Chili Powder, 0.01], [Philadelphia Cream Cheese Strawberry, 0.01], [Gummi Bears, 0.01], [Solid White AlbacoreTuna  in Water, 0.02], [Organic Summer Strawberry Bunny Fruit Snacks, 0.05], [vitaminwater® XXX Acai Blueberry Pomegranate, 0.01], [Frijoles Negros Black Beans, 0.03], [Milk Chocolate Nutrition Shake, 0.01], [Original Strawberry Low Fat Yogurt, 0.01], [Homestyle Classics Meatloaf, 0.01], [Sourdough Deli Bread, 0.01], [Beets Bunch, 0.01], [Nonfat Probiotic Drinks, 0.08], [Cheerios Cereal, 0.01], [Hot Oats Apple Cinnamon, 0.01], [Organic Riced Cauliflower, 0.01], [Original No Pulp Pure 100% Florida Orange Juice, 0.01], [Organic Kale Pesto Hummus, 0.01], [Organic Traditional Gluten Freen Quinoa, 0.01], [Organic Garlic Hommus, 0.01], [Cookies 'n Cream with Oreo Cookie Pieces Lowfat Yogurt, 0.01], [Red Potatoes, 0.01], [Talenti Banana Chocolate Swirl Gelato, 0.01], [Licorice, 0.01], [Antibac Bamboo All Purpose Cleaner, 0.01], [Grade A Large White Eggs, 0.01], [April Fresh Liquid Fabric Softener, 0.01], [Organic Cultured Cream Cheese Spread, 0.01], [Gluten Free Rice Pasta & Cheddar Single Serving Macaroni & Cheese, 0.01], [Green Chile & Cheese Pupusas, 0.01], [Belgium Beer, 0.01], [Prosciutto, 0.01], [Clean & Fresh Sparkling Lemon & Sunflower Essence Scent Multi-Surface Cleaner, 0.01], [Grapeseed Oil Vegenaise, 0.01], [Organic Chopped Spinach, 0.01], [Kids Alphatots, 0.01], [Cinnamon Swirl Raisin Bread, 0.01], [30% Less Sodium Taco Seasoning Mix, 0.01], [Organic Medium Chili With Vegetables, 0.01], [Chocolate Chip Cookies, 0.01], [Total 0% Peach Yogurt, 0.01], [Organic Vanilla Almond Milk, 0.01], [Four Cheese Crispy Thin Crust Pizza, 0.02], [Pure Butter Shortbread, 0.03], [Honey Roasted Al...|\n",
      "|Frontier Whole Wheat Oat & Honey Flapjack and Waffle Mix|[[Mild Chili Seasoning Mix 30% Less Sodium, 0.0], [Rice Mac & Cheese, 0.0], [Men Dry Protection Cool Rush Antiperspirant & Deodorant, 0.0], [Organic Yellow Onion, 0.01], [Chicken Flavor Ramen Noodle Soup, 0.0], [Butter Cooking Spray, 0.0], [Organic Capellini, 0.0], [Defense Up Cold Pressed Fruit Smoothie, 0.0], [Deli Fresh Shaved Smoked Turkey Breast, 0.0], [Four Cheese Crispy Thin Crust Pizza, 0.01], [Light Ricotta Cheese, 0.0], [Organic Spicy Taco Seasoning, 0.0], [Pacific Cooler Juice Drink, 0.0], [Extra Crispy for Chicken Seasoned Coating, 0.0], [Beef Franks 8 Count, 0.0], [Veri Veri Teriyaki Marinade & Sauce Less Sodium, 0.0], [Original Recipe Long Grain & Wild Rice, 0.0], [Organic Baby Lettuces, 0.01], [Green Goodness 100% Fruit Juice Smoothie, 0.0], [Organic Sunday Bacon, 0.0], [Classic While Dinner Plates, 0.0], [Dark Italian Roast Ground Coffee, 0.01], [Select-A-Size White Paper Towels, 0.01], [Organic Kiwi, 0.01], [Cold Brew Coffee Almond Milk, 0.0], [Ground Sage, 0.0], [Apple Cinnamon Instant Oatmeal, 0.0], [Coffee Cake Bites, 0.0], [Hot Oatmeal Variety Pack, 0.0], [Antibacterial Hand Wash with Moisturizers, 0.0], [Sesame Street Organic Mini Blueberry Pancakes, 0.0], [Stonyfield YoToddler Whole Milk Strawberry Beet Berry Yogurt Pouch, 0.01], [Rich & Hearty Savory Beef Barley Vegetable Soup, 0.0], [Ultra Soft Facial Tissues, 0.01], [Cinnamon Sticks, 0.0], [Organic Cherry Tomatoes, 0.0], [Eggo Homestyle Waffles, 0.0], [Lemon-Lime 12 Pack Soda, 0.0], [Light & Fit Greek Yogurt, Cherry, 0.0], [Uncured Bacon + Cranberry Bison Bar, 0.0], [Pineapple Slices in 100% Pineapple Juice, 0.0], [Traditional Chicken & Wild Rice Soup, 0.0], [Original Pepperoni, 0.0], [Mixed Berries, 0.0], [Lower Sugar Instant Oatmeal  Variety, 0.01], [Double Stuf Oreo Sandwich Cookies, 0.0], [Snak-Saks Crackers, 0.0], [Mini Seedless Watermelon Pack, 0.01], [2-Ply 100% Recycled White Facial Tissues, 0.01], [Gain Original Tall Ktchen Bags, 0.0], [Chicken Sticks, 0.0], [Lemon Scent Dishwasher Detergent Pacs, 0.0], [Original Whipped Topping, 0.0], [Petite Cut Diced Tomatoes, 0.0], [Organic Iceberg Lettuce, 0.0], [Organic Quinoa & Brown Rice With Garlic, 0.0], [57 Steak Sauce, 0.0], [Nature's Path Organic EnviroKidz Chocolate Chip Granola Bars, 0.0], [Light & Fit Strawberry Non Fat Greek Yogurt, 0.0], [Sliced Yellow Cling Peach Slices in 100% Real Fruit Juice, 0.0], [One Ply Choose A Size Big Roll Paper Towel Rolls, 0.0], [Flour Tortillas Soft Taco, 0.0], [Slim Cut Reduced Fat 2% Milk Sharp Cheddar Cheese, 0.0], [Plain Pre-Sliced Bagels, 0.0], [Roasted Garlic Pasta Sauce, 0.0], [Grade AA Large White Eggs, 0.01], [Sliced Wheat Bread, 0.0], [Chicken with Peanut Sauce, 0.0], [Wheat Thins Reduced Fat Crackers, 0.0], [Classic Decaf Ground Coffee, 0.0], [Wild Mushroom Ravioli, 0.0], [Caramel Almond and Sea Salt Nut Bar, 0.0], [Buttermilk, Cultured Low Fat, 0.0], [Double Superfine Mustard Powder, Original English, 0.0], [Mild Heat Level Lamb Saag with Basmati Rice, 0.0], [Spicy ...|\n",
      "|     Steamfresh Premium Selects Frozen Gold & White Corn|[[Organic Russet Potatoes, 0.0], [Kraut, 0.01], [Skinless Smoked Sausage, 0.0], [Finley Shreeded Mild Colby Monterey Jack, 0.0], [Cran-Grape Juice, 0.0], [Ultra Strong Toilet Paper Double Rolls Bathroom Tissue, 0.0], [Keurig Daybreak Morning Blend Coffee K Cups, 0.0], [Regular Marshmallows, 0.0], [Natural Colby Jack Cheese Block, 0.0], [Organic Blackberries, 0.04], [Apple Cheese Grape, 0.0], [No Sugar Added Variety Fruit Bars, 0.0], [Sweet Rolls, 0.01], [Ready Rice Chicken Flavored Whole Grain Brown, 0.0], [Smart Dogs Veggie Hot Dogs, 0.0], [Goo Berry Pie Probugs Kefir, 0.0], [Sf Protein New England Style, 0.0], [Zero Calorie Lemon Lime Soda, 0.0], [Crescent Rolls Original, 0.0], [Maple Flavored Sausage Patties, 0.0], [Squeeze Light Mayonnaise, 0.0], [Seedless Cucumbers, 0.0], [V8 Vegetable Juice Spicy Hot, 0.0], [Pure Coconut Milk, 0.0], [Sensitive Facial Cleansing Towelettes, 0.0], [Original Coffee Creamer, 0.0], [Zero Vitamin Water, 0.0], [Foldit Artisan Flatbreads Everything, 0.01], [2nd Foods Organic Banana and Squash Baby Food, 0.0], [Steamfresh Premium Selects Broccoli Florets, 0.03], [Pet Stain Remover, 0.0], [Whole Grains Oatnut Bread, 0.0], [Arancita Rossa, 0.01], [Soy Sauce, 0.01], [Steam'ables Deluxe Soybeans In The Pod Edamame, 0.0], [Asian Chopped Salad, 0.01], [Italian Style Boneless Skinless Chicken Breasts, 0.0], [Milano Mint Cookies, 0.0], [Organic Eggs Large, 0.0], [Spaghetti Pasta, 0.02], [Squeeze Pouch Sour Cream, 0.01], [Cracklin' Oat Bran Cereal, 0.01], [Outshine Fruit Bars, 0.02], [Best Original Baked Beans, 0.0], [Prime Filets Turkey Dinner In Gravy, 0.0], [Eagle Brand Sweetened Condensed Milk, 0.01], [Organic Whole Milk with DHA Omega-3, 0.0], [Spring Mix, 0.01], [NUT-rition Men's Health Recommended Mix, 0.0], [Natural Glass and Surface Cleaner, 0.0], [57 Steak Sauce, 0.0], [Large Eggs, 0.01], [Chewy Peanut Butter Chocolate Chip Granola Bars, 0.01], [French Vanilla Coconut Milk Creamer, 0.0], [Diet Orange Diet CSD, 0.0], [Red Bell Peppers, 0.01], [Eggo Buttermilk Waffles, 0.01], [Light Butter with Canola Oil, 0.0], [Original Snack Crackers, 0.0], [Vine Ripe Tomatoes, 0.01], [Splash Mango Peach Juice, 0.01], [Classic Roast Coffee K-Cups, 0.0], [Tomato Basil Marinara Sauce, 0.0], [Chewy Peanut Peanut Butter Granola Bars, 0.0], [Bag of Lemons, 0.0], [Organic Iceberg Lettuce, 0.0], [Mac & Cheese, 0.01], [Salmon Feast in Seared Salmon Flavor Gravy Cat Food, 0.0], [Fuji  Apples, 0.01], [Complete Crest Complete Whitening + Deep Clean Effervescent Mint Toothpaste 5.8oz Dentifrice, 0.0], [Brown Sugar Cinnamon Roll Wafflers, 0.0], [Chili Garlic Sauce, 0.0], [Sweet Cream Whipped Butter Salted, 0.0], [Bold & Crispy Zesties! Crispy Seasoned French Fried Potatoes, 0.0], [Penne Pasta, 0.02], [Vidalia Onion, 0.0], [Reduced Fat Sliced Swiss Cheese, 0.01], [Creamy Swiss Original Wedges Cheese, 0.01], [Whole Grain Brown Rice, 0.02], [Sauvignon Blanc, 0.01], [Simply Blue Corn Tortilla Chips, 0.01], [Raspberry Preserves, 0.0], [Organic Be...|\n",
      "|                           Original Cheddar CheeseSticks|[[Blue Corn Taco Dinner Kit, 0.01], [Sorbet Pops Strawberry, 0.01], [100% Juice, 0.01], [Homestyle Breaded Chicken Breast Tenders, 0.02], [Delights Super Moist Triple Chocolate Fudge Cake Mix, 0.01], [No Calorie Sweetener Packets, 0.01], [Fudge Brownie Mix, 0.01], [Crackers Harvest Whole Wheat, 0.01], [Bunched Carrots, 0.01], [Dessert Shop Chocolate Brownie Cookies, 0.01], [Cheese Pizza Snacks, 0.01], [Organic Canned Pinto Beans, 0.01], [Gluten Free White Sandwich Bread, 0.01], [Organic Large Extra Fancy Fuji Apple, 0.03], [Light and Lean Quinoa Black Beans with Butternut Squash and Chard, 0.01], [Americone Dream® Ice Cream, 0.01], [Organic Apple Banana GoGo Squeez, 0.01], [Half And Half Cream, 0.02], [Half Sour Pickles, 0.02], [Fresh Ginger Root, 0.01], [Mini Chocolate Chunk Cookies, 0.01], [Salt & Pepper Krinkle Chips, 0.01], [Organic Butterhead (Boston, Butter, Bibb) Lettuce, 0.01], [Organic Cheddar Bunnies, 0.01], [Natural Skinless & Boneless Sardines In Water, 0.01], [Firewood Bundle, 0.01], [Ale, Not Quite Pale, No. 9, 0.01], [Organic Baby Rainbow Carrots, 0.01], [Imported Unsalted Butter, 0.01], [Organic Minestrone Soup, 0.01], [Sourdough Bread, 0.02], [Gluten Free Whole Grain Bread, 0.01], [Crackers, Baked, Mediterranean, Sea Salt, 0.01], [Dishwasher Detergent ActionPacs Fresh Scent, 0.02], [Baby Dry Diapers Jumbo Pack Size 4, 0.01], [Non Fat Black Cherry on the Bottom Greek Yogurt, 0.01], [Unsalted Cultured Butter, 0.01], [100% Recycled White Paper Towels, 0.02], [Michigan Organic Kale, 0.01], [Rosemary Mini Croccantini, 0.01], [Total 2% All Natural Plain Greek Yogurt, 0.01], [Vanilla Cookies, 0.01], [Organic Multigrain Waffles, 0.02], [Toothpaste & Mouthwash, Fluoride, 2 in 1, Whitening, Icy Blast, Liquid Gel, 0.01], [Organic Kosher Dill Pickles, 0.01], [Indian Samosa Organic Wrap, 0.01], [Waxed Paper Bags, 0.01], [All Natural Classic Guacamole, 0.01], [Protein Bar, High, White Chocolate, 0.01], [Chopped Clams, 0.01], [Jazz Apple, 0.01], [Organic Creamy Tomato Soup, 0.01], [Organic Stage 4 Spinach Mango & Pear Baby Food, 0.01], [Organic Gala Apples, Bag, 0.01], [Organic Sunday Bacon, 0.01], [Premium Original Saltine Crackers, 0.01], [YoKids Squeezers Organic Low-Fat Yogurt, Strawberry, 0.01], [Baby Spinach & Arugula, 0.01], [Organic Crushed Tomatoes with Basil, 0.01], [Island Mango Premium Fruit Snacks, 0.01], [Taco Seasoning, 0.01], [Low Fat Strawberry Yogurt Tubes, 0.01], [Large Lemon, 0.06], [Flavor Blasted Xtra Cheddar Baked Goldfish Crackers, 0.01], [Sharp Cheddar Macaroni & Cheese Dinner, 0.01], [Light and Lean Mattar Paneer, 0.01], [Chewy Granola Bar Peanut Butter Chocolate Chip, 0.01], [Organic YoBaby Vanilla Yogurt, 0.01], [Frosted berry Strawberry Toaster Pastries, 0.01], [100% Recycled Facial Tissue, 0.01], [Cheese Ravioli, 0.01], [Pure Organic  Wildflower Honey, 0.01], [Mint Chip Coconut Milk Ice Cream, 0.03], [Roasted Salted Peanuts, 0.01], [Boneless Skinless Chicken Thighs, 0.01], [Organic Blackberries, 0.02], [Cheddar ...|\n",
      "|          Original Regular To Go Fresh Scent Pantiliners|[[With Bleach Cleanser, 0.13], [Garlic Hummus, 0.04], [2X Concentrated Clean Burst Laundry Detergent, 0.13], [Ultra Premium Bath Tissue Double Rolls, 0.04], [2-Ply Everyday Napkins, 0.04], [Green Beans, 0.04], [Original Popcorn, 0.04], [Whole Grains Oatnut Bread, 0.04], [Sugar Snap Peas, 0.04], [Multigrain Wheat Thins Crackers, 0.04], [Heavy Duty Scrub Sponges, 0.04], [Lavender Multi-Purpose Cleaner, 0.04], [Pirate's Booty Aged White Cheddar Baked Rice and Corn Puffs, 0.04], [Unsweetened Iced Coffee, 0.04], [Organic Olive Oil, Basil, & Garlic Pasta Sauce, 0.04], [Organic Low Sodium Chunky Tomato Bisque Soup, 0.04], [Say Cheese! Crispy Whole Grain Baked Crackers, 0.04], [100% Pear Juice, 0.04], [Zero Ultra Energy Drink, 0.04], [gel hand wash sea minerals, 0.04], [Simple Favorites Chicken Fettuccini Frozen Entree, 0.04], [Organic Cauliflower, 0.04], [Pepperoni Pizza Rolls, 0.04], [Condensed Cream of Mushroom Soup, 0.04], [Boneless And Skinless Chicken Breast, 0.04], [Squeeze Tomato Ketchup, 0.04], [Fresh Always Ultra Thin Fresh Active Overnight Pads With Wings 24 count Feminine Care, 0.04], [Overnight Maxi Wrapped, 0.04], [Bunched Cilantro, 0.08], [Coconut & Warm Ginger Liquid Hand Soap, 0.04], [Vegetarian Refried Beans, 0.04], [Natural Monterey Jack Cheese, 0.04], [Soleil 3 Blade Women's Disposable Razors, 0.04], [Vanilla Coke Zero, 0.04], [Allergy Ultratab Tablets, 0.04], [Clean Care Big Roll Toilet Paper, 0.04], [Banana, 0.08], [Simply Heinz Tomato Ketchup, 0.04], [smartwater® Electrolyte Enhanced Water, 0.04], [Delifresh Mesquite Turkey Breast, 98% Fat Free, Gluten Free, 0.04], [Gluten Free Inca Red, 0.04], [Taster's Choice House Blend Single Serve Instant Coffee Packets, 0.04], [Philadelphia Cream Cheese Spread, 0.04], [Petite White Corn, 0.04], [Feminine Wipes Refill, 0.04], [G2 Grape Sports Drink, 0.04], [Activia Lowfat Peach Yogurt, 0.04], [100% Lactose Free Reduced Fat Calcium Enriched Milk, 0.38], [Complete Clean Power Toilet Bowl Cleaner Value Pack, 0.04], [Pearl Triple Pack Light/Regular/Super Absorbency Scented Tampons, 0.04], [Original Worcestershire Sauce, 0.04], [Organic Blackberries, 0.04], [Cotija Part Skim Milk Cheese, 0.04], [Fridge Pack Cola, 0.04], [Power Grains Waffles 6 ct, 0.04], [CleanWear & Ultra Thin Regular Pads with Wings Unscented, 0.04], [Blueberries Pint, 0.08], [Baby Spinach Salad, 0.04], [Natural Artisan Water, 0.08], [Cup Noodles Ramen Noodle Soup with Shrimp, 0.04], [Organic Baby Arugula, 0.08], [Orange Tangerine Liquid Water Enhancer, 0.04], [Yellow Corn Tortillas, 0.04], [Multi-Purpose Cleaner, Lavender, 0.13], [Exhilarations White Lavender & Sandalwood Fabric Softeners, 0.04], [Extra Broad Noodles, 0.04], [French Vanilla Creamer, 0.04], [Vanilla Light & Fit Greek Yogurt, 0.04], [Limes, 0.04], [Max Gel Clog Remover, 0.04], [Strawberry Gelatin, 0.04], [Total 0% Greek Yogurt, 0.17], [Honey Bunches of Oats Honey Roasted with Almonds Cereal, 0.08], [Traditional Italian Sauce, 0.04], [37% Less Sodium Soy Sauce, ...|\n",
      "|                                            Single Donut|                                                                       [[Fresh Cut Blue Lake No Salt Added Cut Green Beans, 0.07], [Cracker Cuts Extra Sharp Cheddar, 0.07], [Organic Eggs - Jumbo, 0.07], [Sandwich Thins Whole Wheat Flax and Fiber Rolls, 0.07], [Enchilada with Spanish Rice & Beans Meal, 0.07], [Blueberry Protein Bar, 0.07], [\"8\"\" Pumpkin Pie\", 0.07], [Original Whole Grain English Muffins, 0.07], [Jellied Cranberry Sauce, 0.07], [Grape White/Green Seedless, 0.07], [Fuji  Apples, 0.07], [White Potatoes, 0.07], [Egg Salad, 0.07], [Freshly made pasta, rich meat sauce and Real Mozzarella cheese Lasagna with Meat & Sauce, 0.07], [Trop50 Some Pulp Orange Juice, 0.07], [Colby Jack Cheese, 0.07], [Smartwater, 0.07], [Country Fried Beef Steak & Gravy, 0.07], [Country Style Baked Beans, 0.07], [Cola, 0.07], [Anti-Itch Crème, 0.07], [Original Nooks & Crannies English Muffins, 0.14], [Natural Sharp Cheddar Sliced Cheese, 0.07], [Ultra Original Scent Dishwashing Liquid, 0.07], [Disinfecting Wipes, Lemon, 0.07], [Fat Free Unsalted Mini Pretzels, 0.07], [Apples & Cheddar w/Cranberries & Cashews, 0.07], [Plus OxiClean Stain Fighters Fresh Scent Liquid Laundry Detergent, 0.07], [Large Adhesive Pads, 0.07], [Homestyle Corned Beef Hash, 0.14], [XL Back Medicated Patch, 0.21], [Lowfat Milk, 0.07], [Vanilla Ice Cream, 0.14], [Distilled Water, 0.07], [Chunk Light Tuna in Water, 0.07], [Chocolate Chip Cookie Dough, 0.07], [Vanilla Caramel Creme Coffee Creamer, 0.07], [Dishwasher Detergent, 0.07], [Organic Southwest Salad, 0.07], [Reduced Fat Club Crackers, 0.07], [Original Recipe Chocolate Pudding, 0.07], [Grapefruit Juice, 0.07], [Ready-to-Bake 9 Inch Pie Crusts, 0.07], [Extra Creamy Dairy Whipped Topping, 0.07], [Original Dry Dog, 0.07], [Sandies Classic Shortbread Cookies, 0.07], [Gluten Free Original Recipe Tapioca Pudding, 0.07], [Belgian Chocolate Chocolate Ice Cream, 0.21], [Brown & Serve Original Breakfast Sausage Links, 0.07], [White Onion, 0.07], [Mozzarella String Cheese, 0.07], [Darks Liquid Laundry Detergent, 0.07], [Bengal Spice Herbal Tea, 0.07], [Cage Free Brown Eggs-Large, Grade A, 0.07], [Protein Bar Mint Chocolate, 0.07], [Roma Tomato, 0.07], [Lowfat Cottage Cheese 2%, 0.07], [Chocolate Chocolate Chip Ice Cream, 0.07], [Boomchickapop Sea Salt Popcorn, 0.07], [Mint Chocolate Chip Ice Cream, 0.07], [Red Seedless Grapes, 0.14], [Honeycrisp Apple, 0.07], [Diet Dr.Pepper Soda Pack, 0.07], [Organic Cucumber, 0.07], [Classic Hummus, 0.07], [House Blend Deep Roast Ground Coffee, 0.07], [Simply Naked Bagel Chips, 0.21], [Cool Mint® Antiseptic Adult Mouthwash, 0.07], [Gruyere Cheese, 0.07], [Made High Potency Biotin 2500 mcg, 0.07], [Vanilla Ice Cream with Milk Chocolate, 0.14], [Half & Half, 0.07], [Baby Spinach, 0.07], [Cola Soft Drink, 0.07], [Hardwood SmokedCenter Cut Original Bacon, 0.07], [VIA Ready Brew Colombia Coffee, 0.07], [Homestyle Mashed Potatoes, 0.07], [Pure Irish Butter, 0.07], [Organic Blueberries, 0.07], [Pretzel Sticks, 0.07]]|\n",
      "|                                           Medium Shells|[[Select-A-Size White Giant Roll Paper Towels, 0.01], [Deli Fresh Honey Shaved Smoked Ham, 0.01], [Strawberry Flavored Soda, 0.02], [Premium Italian Bread, 0.02], [Whole Milk, 0.03], [Mild  Switzerland Le Gruyere Cheese, 0.01], [Uncured Canadian Bacon, 0.01], [Tommy/Kent/Keitt/Haden Mango, 0.01], [Complete™ ActionPacs™ Fresh Scent Dishwasher Detergent, 0.01], [Supreme Made With Botanic a 100% Plant-Based Fiber Unscented Ultra-Soft Cleansing Wipes, 0.01], [Flour Fajitas Tortillas, 0.01], [Traditional Pasta Sauce, 0.01], [Navel, 0.01], [Baked with Whole Grain Wheat Smoked Gouda Crackers, 0.01], [Diet Mixed Berry Green Tea, 0.01], [Three Meat & Four Cheese Lasagna, 0.01], [ProBugs Whole Milk Kefir Orange Creamy Crawler, 0.02], [Strawberry Preserves, 0.01], [Kids Choice Bread Whole Grain White, 0.01], [Crayons - 24 CT, 0.01], [French Onion Dip, 0.01], [Fresh Chicken Breast, 0.01], [Cranberry Juice Cocktail, 0.01], [Classic Hummus Family Size, 0.01], [2% Reduced Fat Milk, 0.03], [100 Calorie Pineapple Coconut Blended Greek Yogurt, 0.01], [Organic Unsalted Diced Tomatoes, 0.01], [White Corn Tortillas Super Size, 0.01], [Solid White Albacore Tuna In Water, 0.01], [Reduced Fat Crescent Rolls, 0.01], [Supreme Caesar Dressing, 0.01], [Oreo Cookies and Cream Frozen Dairy Dessert, 0.01], [Original Steak Sauce, 0.01], [Cream Of Chicken Condensed Soup, 0.01], [Parmesan Couscous Mix, 0.01], [Whitening Plus Scope Crest Complete Whitening + Scope Multi-Benefit Minty Fresh Striped Toothpaste 6.2oz Dentifrice, 0.01], [Organic Grade A Large Brown Eggs, 0.01], [Popped Rice Crisps Caramel Corn, 0.01], [Made with Extra Virgin Olive Oil Pesto sauce with Basil, 0.01], [Flavor Blasted Xtra Cheddar Goldfish Crackers, 0.01], [Ultratab® Tablets Allergy, 0.01], [Organic Baby Spinach, 0.01], [Steamfresh Edamame Pods Frozen Vegetables, 0.01], [Broccoli Bunch, 0.01], [Diced Basil Garlic & Oregano Tomatoes, 0.01], [G Series Perform Low Calorie Fruit Punch Sports Drink, 0.01], [Natural Sharp Cheddar Cheese Chunk, 0.01], [Unsweetened Vanilla Almond Milk, 0.01], [Gluten-Free Boom Chicka Pop Salted Caramel popcorn, 0.01], [Dulce de Leche Caramel Ice Cream, 0.01], [Trix Cereal, 0.01], [Honey Wheat Bread, 0.04], [Rise Krisipies Toasted Rice Cereal, 0.01], [Sliced Yellow Cling 100 Calorie in Extra Light Syrup Peaches, 0.01], [Organic 85% Cacao Dark Chocolate Bar, 0.01], [Pepperoni Ultra Thin Crust Pizza, 0.01], [Caramel Cone Ice Cream, 0.01], [Flax Plus Organic Pumpkin Flax Granola, 0.01], [No Salt Added Fresh Cut Sweet Peas, 0.01], [Tater Tots, 0.01], [Broccoli Florets, 0.01], [Frosted Mini-Wheats Original Cereal, 0.03], [Vegetable Classics Garden Vegetable Soup, 0.01], [Iceberg Garden Salad Blend, 0.07], [Melting Wafers White Chocolate, 0.01], [Extra Virgin Olive Oil Spread, 0.01], [Chocolate Chocolate Chip Ice Cream, 0.01], [Pop'ems Glazed Donut Holes, 0.01], [Choose-A-Sheet Regular Roll Paper Towels, 0.01], [57 Steak Sauce, 0.01], [Original Nooks & Crannies English Muffins, 0.03]...|\n",
      "|                          Original Toothbrush Soft Right|[[Strawberry Toothpaste, 0.03], [Cinnamon Raisin Bread, 0.03], [Organic Reduced Sodium Tamari, 0.03], [Mighty 4 Kale, Strawberry, Amaranth & Greek Yogurt Tots Snack, 0.03], [Organic Unsalted Butter, 0.03], [Almond Breeze Unsweetened Vanilla Almond Milk, 0.03], [Organic Snipped Green Beans, 0.03], [Milk Chocolate baking Chips, 0.03], [Spicy Shrimp Avocado Roll, 0.03], [Roasted Seaweed Snacks, 0.03], [Yellow Bell Pepper, 0.03], [Stainless Steel Tongue Cleaner, 0.08], [Organic Kiwi, 0.03], [Panda Puffs Peanut Butter Cereal, 0.03], [Lemongrass Long Lasting Deodorant Stick, 0.03], [Organic Lettuce, 0.03], [Uncured Hickory Smoked Sunday Bacon, 0.03], [Anti-Cavity & Strengthening Deep Sea Spearmint Gel Toothpaste, 0.03], [Banana Bread Sprouted Bar, 0.03], [Organic Shredded Mozzarella, 0.03], [Kombucha, Organic Raw, Citrus, 0.03], [Low Fat Vanilla Yogurt, 0.03], [Cheese Alternative, American Style, Slices, 0.03], [White Onion, 0.03], [Apple Lemon Cayenne Ginger, 0.03], [Organic Granny Smith Apple, 0.03], [White Chocolate Macadamia Nut Energy Bar, 0.03], [Enlightened Organic Raw Kombucha, 0.03], [Part Skim Ricotta, 0.03], [Hickory Smoked Turkey Breast, 0.03], [Strawberry Organic Kefir, 0.03], [Classic Vanilla Flavor Marshmallow Minis, 0.03], [Pad Thai Brown Rice Noodles, 0.03], [Organic Extra Firm Tofu, 0.03], [Organic Whole Grain Oatmeal Cereal Baby Food, 0.03], [Garlic Marinara Cooking Sauce, 0.03], [Sweet Mint Fluoride Toothpaste Gel, 0.03], [Slow Roasted Lightly Seasoned Chick'n, 0.03], [Red Grapes, 0.03], [Frozen Organic Wild Blueberries, 0.03], [Almond Goat's Milk Soap, 0.03], [Smoked Mozzarella Cheese, 0.03], [Organic Smoked Turkey Breast, 0.03], [Organic Vegan Mushroom Gravy, 0.03], [Organic Coconut Palm Sugar, 0.03], [Boomchickapop Sweet & Salty Kettle Corn, 0.03], [Organic Hothouse Cucumbers, 0.08], [Original Rice Drink, 0.03], [Organic Extra Virgin Olive Oil, 0.03], [Ezekiel 4:9 Sprouted Whole Grain Cereal Almond, 0.06], [Mighty 4 Sweet Potato, Blueberry, Millet & Greek Yogurt Tots Snack, 0.03], [Part Skim Ricotta Cheese, 0.03], [Lash and Lid Make-Up Remover, 0.03], [Spring Water, 0.11], [Organic SprouTofu Royal Thai Baked Tofu, 0.06], [Lime Sparkling Water, 0.03], [Lemon Ricotta Ravioli In Lemon Pasta, 0.03], [Cavity Protection Natural Baking Soda Peppermint Fluoride Toothpaste, 0.03], [Sea Salt Made With Organic Grain Rice Chips, 0.03], [Challah Bread, 0.03], [Red Plums, 0.03], [Organic Lightly Salted Sea Salt Thin & Crispy Restaurant Style Tortilla Chips, 0.03], [Raspberry Yoghurt, 0.03], [Chicken Tenders, 0.03], [Vitamin C Super Orange Dietary Supplement, 0.03], [Organic Toaster Pastries Frosted Lotta Chocolotta - 6 CT, 0.03], [Organic Pancake Syrup, 0.03], [Shredded Parmesan, 0.03], [Natural Anticavity Silly Strawberry Fluoride Toothpaste for Children, 0.03], [Organic Ginger Maple Tonic Juice, 0.03], [Organic Breathe Easy Rub, 0.03], [Organic Chopped Garlic, 0.03], [Sparkling Natural Mineral Water, 0.14], [Organic Thompson Seedless Rais...|\n",
      "|                    Anti-Bumps Shave Gel for Bikini Area|[[Artisan Style Corn & Whole Wheat Blend Tortillas, 0.08], [Original Syrup, 0.04], [Bagel Thins Everything, 0.04], [Angel Hair Pasta, 0.04], [Orange Calcium & Vitamin D Pulp Free, 0.04], [Classic Meatless Meatballs, 0.04], [Moisturizing Face Cream, 0.04], [Steamfresh Premium Selects Frozen Whole Green Beans, 0.04], [Sliced White Mushrooms, 0.12], [Everyday 2-Ply White Facial Tissues, 0.04], [Pronamel Gentle Whitening Toothpaste, 0.04], [Laxative Suppositories, 0.04], [Rich and Creamy Milk Chocolate Frosting, 0.04], [Grape Tomatoes, 0.12], [Restaurant Style Medium Salsa, 0.04], [Extra Sharp White Cheddar, 0.04], [Healthy Grains Fiber Cinnamon Oat Clusters, 0.04], [Easy Open TabsBags, 0.08], [Coffee Blended Low-Fat Greek Yogurt, 0.04], [Boneless Skinless Chicken Breast Fillets, 0.04], [Skin Therapy Sensitive Skin Lotionized Moisturizing Shave Gel, 0.04], [Pomegranate Fresh Arils, 0.04], [Crispy Crust Pepperoni Pizza, 0.04], [Deli Fresh Honey Shaved Smoked Ham, 0.08], [Wheat Thins Reduced Fat Crackers, 0.04], [Ultra Clean Breeze Liquid Fabric Conditioner 150 Loads, 0.08], [Unscented Multipack Tampons, 0.08], [Spinach & Ricotta Tortelloni, 0.04], [Hand Renewal with Olay® Pomegranate Splash™ Dishwashing Liquid, 0.04], [Stimulations Ecstasy Ultrasmooth Lubricant Premium Latex Condoms, 0.04], [Non Fat Acai & Mixed Berries Yogurt, 0.04], [Ultra Comfort Care Mega Roll Toilet Paper, 0.04], [Dubliner Wedge Pre Cut Cheese, 0.04], [Classic Hummus, 0.04], [On the Go Natural Lemonade Drink Mix, 0.04], [Oral Electrolyte Solution Strawberry, 0.04], [Natural Spring Water, 0.04], [Organic Broccoli Florets, 0.04], [Light and Lean Meatless Swedish Meatballs With Broccoli And Pasta, 0.04], [Turkey Bacon, 0.04], [100% Whole Wheat Bread, 0.08], [HE Original Liquid Laundry Detergent, 0.08], [Whiskas® Temptations® Seafood Medley Flavor Mega, 0.04], [Mini Cucumbers, 0.04], [Panko Bread Crumbs, 0.04], [Unseeded Plain Rye, 0.04], [Soothing Aloe Vera Liquid Hand Soap Refill, 0.04], [Ultra Thin Slices Sharp Cheddar Cheese, 0.04], [Spreadable Butter with Canola Oil, 0.19], [Original Glass Cleaner, 0.04], [Smartwater, 0.19], [Complete Deep Clean Soft Bristles Toothbrush, 0.04], [Shredded Hash Browns, 0.04], [Positively Smooth™ Shave Gel, 0.04], [Chile Habanero Hot Sauce, 0.04], [Disinfecting Wipes Fresh Scent & Lemon, 0.04], [Purified Drinking Water, 0.08], [Pods Botanical Rain Scent with Febreze Laundry Detergent Pacs, 0.08], [Cantina Thin & Crispy Tortilla Chips, 0.08], [Light and Lean Mattar Paneer, 0.08], [Complete Mint Flavor Satin Floss , 0.04], [Deep Moisture Body Wash, 0.08], [24 Hour Original Prescription Strength Fexofenadine 180 Mg Allergy Tablets, 0.04], [S. Pellegrino Sparkling Natural Mineral Water, 0.08], [Light Sodium Brown Rice and Vegetable Bowl, 0.04], [Hass Avocado, 0.04], [Original English Muffins, 0.12], [Light & Lean Pasta & Veggie Bowl, 0.12], [White Paper Towels, 0.04], [Hydro Body Sponge With Hand Strap, 0.04], [Pasta Sides Alfredo Broccoli, 0.04], [...|\n",
      "+--------------------------------------------------------+------------------------------------------------------------------------------------------------------------------------------------------------------------------------------------------------------------------------------------------------------------------------------------------------------------------------------------------------------------------------------------------------------------------------------------------------------------------------------------------------------------------------------------------------------------------------------------------------------------------------------------------------------------------------------------------------------------------------------------------------------------------------------------------------------------------------------------------------------------------------------------------------------------------------------------------------------------------------------------------------------------------------------------------------------------------------------------------------------------------------------------------------------------------------------------------------------------------------------------------------------------------------------------------------------------------------------------------------------------------------------------------------------------------------------------------------------------------------------------------------------------------------------------------------------------------------------------------------------------------------------------------------------------------------------------------------------------------------------------------------------------------------------------------------------------------------------------------------------------------------------------------------------------------------------------------------------------------------------------------------------------------------------------------------------------------------------------------------------------------------------------------------------------------------------------------------------------------------------------------------------------------------------------------------------------------------------------------------------------------------------------------------------------------------------------------------------------------------------------------------------------------------------------------------------------------------------------------------------------------------------------------------------------------------------------------------------------------------------------------------------------------------------------------------------------------------------------------------------------------------------------------------------------------------------------------------------------------------------------------------------------------------------------------------------------------------------------------------------------------------+\n",
      "\n",
      "CPU times: user 364 ms, sys: 112 ms, total: 476 ms\n",
      "Wall time: 2min 32s\n"
     ]
    }
   ],
   "source": [
    "%%time\n",
    "\n",
    "import ast\n",
    "import numpy as np\n",
    "\n",
    "# Method used to split the association rules in multiple rows, since we want to access each product_id separately for proper inner joins\n",
    "def map_single_association_rules(row):\n",
    "    #ast.literal_eval() is used to convert a string representation of a list to a list \n",
    "    product = list(ast.literal_eval(row[0]))\n",
    "    product_associations = list(ast.literal_eval(row[1]))\n",
    "\n",
    "    for product_association in product_associations:\n",
    "        yield (product, (product_association))\n",
    "\n",
    "# Simplified version of the map_to_patterns method. Since we do not want to make associations with multiple products, the triples were removed for performance.\n",
    "# We also remove the .split(';') which slowed down the process, since a \";\".join would have been needed beforehand to make the result of our query fit with it.\n",
    "def map_order_patterns(row):\n",
    "    \n",
    "    products = row.transaction\n",
    "    products.sort()\n",
    "    \n",
    "    if products is not None:\n",
    "        for i in range(len(products)):\n",
    "            \n",
    "            if not products[i]:\n",
    "                continue\n",
    "            \n",
    "            yield ((products[i],), 1)\n",
    "            \n",
    "            for j in range(len(products)):\n",
    "                if i >= j:\n",
    "                    continue\n",
    "\n",
    "                yield ((products[i], products[j]), 1)\n",
    "\n",
    "\"\"\"\n",
    "TODO: run the MBA algorithm and print the requested output\n",
    "\"\"\"\n",
    "\n",
    "############# Comments for each line below : ###################\n",
    "# lst_association_rules = df_products_per_order... - We generate single and pair patterns from the list of product_ids for each order and we count their occurences in all the data. \n",
    "# .flatMap(map_to_subpatterns).reduceByKey(lamb... - We create association subpattenrs from the generated patterns\n",
    "# .map(lambda x : (x[0][0], [(x[0][1], x[1])]))... - We put the subpatterns associations in a list to merge on a single row during the reduceByKey \n",
    "# .flatMap(map_to_assoc_rules).reduceByKey(lamb... - We calculate execute the MBA algorithm\n",
    "# .filter(lambda x : len(x[0]) == 1) - We filter the baskets that have a key composed of more that one product_id\n",
    "# .takeSample(False, 10, seed=0) - We take a random sample of 10 association rules. Returns a list of assiation rules.\n",
    "lst_association_rules = df_products_per_order.rdd.flatMap(map_order_patterns).reduceByKey(lambda x , y: x + y)\\\n",
    ".flatMap(map_to_subpatterns).reduceByKey(lambda x,y: x + y)\\\n",
    ".map(lambda x : (x[0][0], [(x[0][1], x[1])])).reduceByKey(lambda x , y: x + y)\\\n",
    ".flatMap(map_to_assoc_rules).reduceByKey(lambda x , y: x + y)\\\n",
    ".filter(lambda x : len(x[0]) == 1)\\\n",
    ".takeSample(False, 10, seed=0)\n",
    "\n",
    "# We take the list of association rules and create a rdd from it as an intermediary step to the creation of a dataframe that will be used for further transformations.\n",
    "df_association_rules = spark.sparkContext.parallelize(lst_association_rules).map(format_tuples).toDF(['ordered_product', 'association_rules'])\n",
    "\n",
    "# We split the list of association rules  on multiple rows to allow the joining of their content.\n",
    "df_ass_rule = df_association_rules.rdd.flatMap(map_single_association_rules).toDF(['ordered_product', 'association_rule'])\n",
    "\n",
    "# We separate the product_ids on distinct columns to allow joining\n",
    "df_join_base = df_ass_rule.select(df_ass_rule.ordered_product, (df_ass_rule.association_rule['_1']).alias('associated_product'), (df_ass_rule.association_rule['_2']).alias('probability'))\n",
    "\n",
    "# We make the first inner join to get the product_name for the key\n",
    "df_with_joined_keys = df_join_base.join(df_products, df_products.product_id == df_join_base.ordered_product[0], 'inner')\\\n",
    ".select((df_products.product_name).alias(\"product\"), df_join_base.associated_product, df_join_base.probability)\n",
    "\n",
    "# We make the second inner join to get the product_name for the associated_product. .\n",
    "# After that, we group all the association_rules by key, by puting them in a list and merging those lists by key.\n",
    "# And finally, we generate the final dataframe and show it (since the notebook's display rate would be otherwise exceeded, we need to truncate the result).\n",
    "df_with_joined_keys.join(df_products, df_products.product_id == df_with_joined_keys.associated_product, 'inner')\\\n",
    ".select(df_with_joined_keys.product, df_products.product_name, df_with_joined_keys.probability)\\\n",
    ".rdd.map(lambda row : (row[0], [(row[1], row[2])])).reduceByKey(lambda x , y: x + y)\\\n",
    ".toDF(['product', 'association_rules']).show(10, truncate=3000)"
   ]
  },
  {
   "attachments": {},
   "cell_type": "markdown",
   "metadata": {},
   "source": [
    "Above are the associations rules for the following 10 items. **Here is a brief summary/analysis of those rules**:\n",
    "\n",
    "*Cheese Fantastico Dressing & Marinade*\n",
    "    - Sauvignon Blanc (wine), 0.25\n",
    "    - Sweet Baguette, 0.25\n",
    "    \n",
    "**Conclusion**: with cheese dressing, people often like to have a glass of wine and bread to go with it.\n",
    "\n",
    "*Strawberry ZFruit*\n",
    "    - Dried Cranberries, 0.01\n",
    "    - Blueberry Cashew Bar, 0.02\n",
    "    - Nonfat probiotic Drinks, 0.08\n",
    "    - Organic Kale Pesto Hummus, 0.01\n",
    "    \n",
    "**Conslusion**: no statiscally strong conclusion can be drawn from those association rules, due to the small values (1-8%). Subjectively, all items in the association rules with the *Strawberry ZFruit* seem to be healthy options. \n",
    "\n",
    "*Frontier Whole Wheat Oat & Honey Flapjack and Waffle Mix*\n",
    "    - Dark Italian Roast Ground Coffee, 0.01\n",
    "    - Four Cheese Crispy Thin Crust Pizza, 0.01\n",
    "    \n",
    "**Conclusion**: Once again, no statiscally strong conclusion can be deduced. Items seem to be mainly breakfast foods.\n",
    "\n",
    "*Steamfresh Premium Selects Frozen Gold & White Corn*\n",
    "    - Kraut, 0.01\n",
    "    - Steamfresh Premium Selects Broccoli Florets, 0.03\n",
    "\n",
    "**Conclusion**: Once again, no statiscally strong conclusion can be deduced. People seem to buy other frozen vegetables from the same brand.\n",
    "\n",
    "\n",
    "*Original Cheddar CheeseSticks*\n",
    "    - Blue Corn Taco Dinner Kit, 0.01\n",
    "    - Sourdough Bread, 0.02\n",
    "    - Organic Multigrain Waffles, 0.02\n",
    "    \n",
    "**Conclusion**: Once again, no statiscally strong conclusion can be deduced. Some items seems to also be wheat products.\n",
    "\n",
    "\n",
    "*Original Regular To Go Fresh Scent Pantiliners*\n",
    "    - With Bleach Cleanser, 0.13\n",
    "    - 2X Concentrated Clean Burst Laundry Detergent, 0.13\n",
    "    \n",
    "**Conclusion**: Feminine hygiene products are usually bought with clothing cleaning products.\n",
    "\n",
    "\n",
    "*Single Donut*\n",
    "    - Red Seedless Grapes, 0.14\n",
    "    - Vanilla Ice Cream with Milk Chocolate, 0.14\n",
    "    - Vanilla Ice Cream, 0.14\n",
    "    \n",
    "    \n",
    "**Conclusion**: Sweet items seem to be bougth together\n",
    "\n",
    "\n",
    "*Medium Shells (pasta)*\n",
    "    - Iceberg Garden Salad Blend, 0.07\n",
    "    - 2% Reduced Fat Milk, 0.03\n",
    "    - Premium Italian Bread, 0.02\n",
    "    \n",
    "**Conclusion**: Once again, no statiscally strong conclusion can be deduced. It is possible that when buying pasta, people tend to eat salad and bread with it.\n",
    "\n",
    "\n",
    "*Original Toothbrush Soft Right*\n",
    "    - Strawberry Toothpaste, 0.03\n",
    "    - Cinnamon Raisin Bread, 0.03\n",
    "    - Kombucha, Organic Raw, Citrus, 0.03\n",
    "    \n",
    "    \n",
    "**Conclusion**: Once again, no statiscally strong conclusion can be deduced. Toothpaste is still bought 3% of the time with this toothbrush. By the nature of the item (a toothbrush), it is to be expected that it does not really relate to the food items in the association rules. \n",
    "\n",
    "\n",
    "*Anti-Bumps Shave Gel for Bikini Area*\n",
    "    - Artisan Style Corn & Whole Wheat Blend Tortillas, 0.08\n",
    "    - Unscented Multipack Tampons, 0.08\n",
    "    - Smartwater, 0.19\n",
    "    - Positively Smooth™ Shave Gel, 0.04\n",
    "    \n",
    "    \n",
    "**Conclusion**: Feminine shaving products seem to be bought together.\n",
    "\n"
   ]
  }
 ],
 "metadata": {
  "accelerator": "GPU",
  "colab": {
   "collapsed_sections": [],
   "name": "notebooks_jupyter_tp3.ipynb",
   "provenance": []
  },
  "kernelspec": {
   "display_name": "Python 3",
   "language": "python",
   "name": "python3"
  },
  "language_info": {
   "codemirror_mode": {
    "name": "ipython",
    "version": 3
   },
   "file_extension": ".py",
   "mimetype": "text/x-python",
   "name": "python",
   "nbconvert_exporter": "python",
   "pygments_lexer": "ipython3",
   "version": "3.7.3"
  }
 },
 "nbformat": 4,
 "nbformat_minor": 1
}
